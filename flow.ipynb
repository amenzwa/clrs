{
 "cells": [
  {
   "cell_type": "code",
   "execution_count": 1,
   "id": "3eb84305-5291-4262-91c3-dd28a487a3a1",
   "metadata": {},
   "outputs": [],
   "source": [
    "# automatically reload dependant notebooks\n",
    "%load_ext autoreload\n",
    "%autoreload 2\n",
    "import import_ipynb"
   ]
  },
  {
   "cell_type": "markdown",
   "id": "6659bfc9-28fb-4d97-a5b0-849fe1c551b0",
   "metadata": {},
   "source": [
    "# Maximum Flow\n",
    "\n",
    "Given a flow network $G = (V, E)$ with source vertex $s$ and target vertex $t$, Maximum Flow (MF) algorithm iteratively augment the flow so as to maximise the total flow from $s$ to $t$. See CLRS 4ed Chapter 24 *Maximum Flow* p.670. MF could be used in logistics to maximise the throughput from a factory to a warehouse through a transportation network.\n",
    "\n",
    "## flow network\n",
    "\n",
    "MF algorithms use directed edges with a flow and the maximum capacity. So, we define the weighted edge `FlowEdge` and `FlowGraph` which uses this new edge."
   ]
  },
  {
   "cell_type": "code",
   "execution_count": 2,
   "id": "07a6c1b0-4382-435f-93d8-108691a51c07",
   "metadata": {},
   "outputs": [
    {
     "name": "stdout",
     "output_type": "stream",
     "text": [
      "importing Jupyter notebook from graph.ipynb\n",
      "The autoreload extension is already loaded. To reload it, use:\n",
      "  %reload_ext autoreload\n",
      "importing Jupyter notebook from util.ipynb\n"
     ]
    }
   ],
   "source": [
    "from graph import *\n",
    "from util import *\n",
    "\n",
    "class FlowEdge(Edge):\n",
    "  def __init__(self, u: Vert, v: Vert, cap: float = 0.0):\n",
    "    super().__init__(u, v)\n",
    "    self.flo: float = 0.0\n",
    "    self.cap: float = cap\n",
    "\n",
    "  def residual(self) -> float: return self.cap - self.flo\n",
    "\n",
    "  def __str__(self) -> str: return f\"{self.tag}: {self.showFlow()}\"\n",
    "  def show(self) -> str: return f\"{self.showFlow()}\"\n",
    "  def showFlow(self) -> str: return f\"{self.flo}{f'/{self.cap}' if self.cap > 0.0 else ''}\"\n",
    "\n",
    "class FlowGraph(LstGraph):  # uses FlowEdge\n",
    "  def __init__(self, tag: Tag):\n",
    "    super().__init__(tag)\n",
    "\n",
    "  def makeVEc(self, vt: [Tag], et: [Tag], ec: {Tag, float}) -> None:\n",
    "    self.makeV(vt)\n",
    "    self.makeEc(et, ec)\n",
    "  def makeEc(self, et: [Tag], ec: {Tag, float}) -> None:\n",
    "    for etag in et:\n",
    "      [utag, vtag] = parseETag(etag)\n",
    "      e = FlowEdge(self.getV(utag), self.getV(vtag), float(ec[etag]))\n",
    "      self.ee[e.tag] = e"
   ]
  },
  {
   "cell_type": "markdown",
   "id": "a1163827-3ab7-45ec-a2f2-81e72fb902aa",
   "metadata": {},
   "source": [
    "## Edmonds-Karp algorithm\n",
    "\n",
    "The general idea of MF algorithm, which CLRS calls \"Ford-Fulkerson method\", is iteratively to increase the total flow $f$ from source $s$ to target $t$, with each iteration increasing $f$ in the flow network $G$ by finding an augmenting path $p$ in an associated residual network $G_f$. See p.685-689.\n",
    "\n",
    "In a flow network $G$ with a flow $f$, a residual network $G_f$ consists of edges whose capacities collectively indicate a way in which $f$ can be increased in $G$. See p.677. An augmenting path $p$ is a simple path from source $s$ to target $t$ in the residual network $G_f$. The capacity of the edge with the minimum capacity amongst all the edges along $p$ is called the residual capacity of $p$. Therefore, the residual capacity of a path is its choke point.\n",
    "\n",
    "CLRS presents a basic Ford-Fulkerson maximum flow algorithm on p.685. But this algorithm's runtime $O(Ef^*)$ depends on the maximum flow $f^*$. See p.688. With a minor tweak, namely applying a BFS to the residual network to discover an augmenting path, the flow-independent runtime $O(VE^2)$ is obtained. This tweaked version of Ford-Fulkerson is called Edmonds-Karp. Below, we implement Edmonds-Karp. See p.689."
   ]
  },
  {
   "cell_type": "code",
   "execution_count": 3,
   "id": "285922d6-70df-4c77-81ca-1ed1cfcc9647",
   "metadata": {},
   "outputs": [
    {
     "name": "stdout",
     "output_type": "stream",
     "text": [
      "importing Jupyter notebook from ega.ipynb\n",
      "The autoreload extension is already loaded. To reload it, use:\n",
      "  %reload_ext autoreload\n"
     ]
    }
   ],
   "source": [
    "from ega import *\n",
    "\n",
    "def mfEdmondsKarp(fn: FlowGraph, s: Vert, t: Vert) -> FlowGraph:\n",
    "  def resNet(fn: FlowGraph) -> FlowGraph:\n",
    "    # extract a residual network from flow network fn; see p.677\n",
    "    def edgeResCap(fn: FlowGraph, u: Vert, v: Vert) -> float:\n",
    "      # compute residual capacity for edge e; see Equation 24.2 p.677\n",
    "      uvtag = makeETag(u, v)\n",
    "      vutag = makeETag(v, u)\n",
    "      if fn.hasE(uvtag): return fn.getE(uvtag).residual()\n",
    "      elif fn.hasE(vutag): return fn.getE(vutag).flo\n",
    "      else: return 0.0\n",
    "\n",
    "    rn = FlowGraph(f\"{fn.tag}-\")\n",
    "    rn.dupVV(fn.vv)\n",
    "    for u in fn.getVV():\n",
    "      for v in fn.getVV():\n",
    "        if fn.hasE(makeETag(u, v)) and (r := edgeResCap(fn, u, v)) > 0.0: rn.insE(FlowEdge(u, v, r))\n",
    "    return rn\n",
    "\n",
    "  def augPath(rn: FlowGraph, s: Vert, t: Vert) -> [FlowEdge]:\n",
    "    # find an augmenting path from vertex s to vertex t in residual network rn; see p.681\n",
    "    vv = list(reversed(rn.pathSV(s, t)))\n",
    "    return list(map(lambda uv: rn.getE(makeETag(uv[0], uv[1])), zip(vv, vv[1:])))\n",
    "\n",
    "  def pathResCap(ap: [FlowEdge]) -> float:\n",
    "    # residual capacity (the minimum) of augmenting path ap; see p.681\n",
    "    if len(ap) == 1: return 0.0;\n",
    "    return min([e.residual() for e in ap])\n",
    "\n",
    "  # initialize\n",
    "  for e in fn.getEE(): e.flo = 0.0\n",
    "  # augment flow\n",
    "  while ap := augPath(bfs(resNet(fn), s), s, t):\n",
    "    c = pathResCap(ap)\n",
    "    for e in ap:\n",
    "      if fn.hasE(e.tag):\n",
    "        uv = fn.getE(e.tag)\n",
    "        uv.flo += c\n",
    "      else:\n",
    "        vu = fn.getE(makeETag(e.v, e.u))\n",
    "        vu.flo -= c\n",
    "  fn.tag = f\"{fn.tag}➨\"\n",
    "  return fn"
   ]
  },
  {
   "cell_type": "markdown",
   "id": "ce1307e6-acce-4b34-8967-32a71a606139",
   "metadata": {},
   "source": [
    "# Conclusion\n",
    "\n",
    "In this notebook, we implemented Edmonds-Karp maximum flow algorithm and the maximum bipartite matching algorithm, which uses the maximum flow algorithm. Tests for these algorithms are in [`flowtest.ipynb`](./flowtest.ipynb)."
   ]
  }
 ],
 "metadata": {
  "kernelspec": {
   "display_name": "Python 3 (ipykernel)",
   "language": "python",
   "name": "python3"
  },
  "language_info": {
   "codemirror_mode": {
    "name": "ipython",
    "version": 3
   },
   "file_extension": ".py",
   "mimetype": "text/x-python",
   "name": "python",
   "nbconvert_exporter": "python",
   "pygments_lexer": "ipython3",
   "version": "3.8.17"
  }
 },
 "nbformat": 4,
 "nbformat_minor": 5
}
