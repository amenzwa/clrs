{
 "cells": [
  {
   "cell_type": "code",
   "execution_count": 1,
   "id": "b725abd8-b20f-48d8-9dcc-5690170499f5",
   "metadata": {},
   "outputs": [],
   "source": [
    "# automatically reload dependant notebooks\n",
    "%load_ext autoreload\n",
    "%autoreload 2\n",
    "import import_ipynb"
   ]
  },
  {
   "cell_type": "markdown",
   "id": "58cde7ea-b6cf-4dc2-a723-c011dda0aaf2",
   "metadata": {
    "editable": true,
    "slideshow": {
     "slide_type": ""
    },
    "tags": []
   },
   "source": [
    "# Graph Representation\n",
    "\n",
    "Mathematically, a graph $G = (V, E)$ is a tuple of the vertex set $V$ and the edge set $E$. So, we begin by defining the `Vert` and the `Edge` types and their respective sets. There are two common representations of graphs: adjacency matrix and adjacency list. The adjacency matrix representation is convenient for dense graphs. We will not come across dense graphs until the later chapters. So, we shall begin with the adjacency list representation. See §20.1 *Representations of graphs* p.549.\n",
    "\n",
    "Do note that because this notebook defines the fundamental graph representations, we factored out the tests, whcih perform printing and drawing, into the [`graphtest.ipynb`](./graphtest.ipynb) notebook.\n",
    "\n",
    "By the way, the Python `import` statement can only import Python modules, but not Jupyter notebooks. This is why you must recite those magical incantations at the very top of this notebook. Indeed, they must appear in every notebook that imports other notebooks. This notebook, for instance, imports [`util.ipynb`](./util.ipynb). The `import_ipynb` module, which is installed when you ran the `pip3 install -r ~/Documents/clrs/requirements.txt` command during JLD installation, patches the Jupyter runtime to allow importing notebooks.\n",
    "\n",
    "## *vertex*\n",
    "\n",
    "First, we define the `Vert` type. Because graph algorithms label the vertices and edges, we derive `Vert` from the `Tagged` base type, which is defined in [`util.ipynb`](./util.ipynb) notebook. And these algorithms store some state data in the vertex to keep track of progress as it explores the input graph. The `par` variable points to the parent vertex, the one from which the current vertex was discovered. But since a root vertex has no parent, we assign this variable the `Option[Vert]` type. The `Option` utility type is also defined in the `util` notebook. During construction of the vertex, we initialise `par` to `None`. The `dis` variable is the time the vertex was discovered. It is set to `Infinity` during initialisation. The `fin` variable is the time when processing of the vertex finished. It is used only by DFS, and is initialised to `-Infinity`, since a valid finish time can never be smallter than a valid discover time. And the `col` variable is the vertex colour. `White` means the vertex has not been explored. `Gray` means the vertex has been discovered. And `Black` means the vertex has been fully processed. All vertices are `White` at the start of a graph search algorithm. Here, we added `init()`, so that we may call it to reinitialise the vertex, later.\n",
    "\n",
    "If we are objectively pedantic, we would have defined the `BFVert` type for breadth-first search (BFS) and the `DFVert` for depth-first search (DFS), and `fin` would be a member only of `DFVert`. But since these are simple, elementary algorithms used everywhere, it is better not to over complicate the matter and settle for a less elegant but more convenient combined type `Vert`."
   ]
  },
  {
   "cell_type": "code",
   "execution_count": 2,
   "id": "56410bcc-f881-4f25-8737-e11f7c7915de",
   "metadata": {
    "editable": true,
    "slideshow": {
     "slide_type": ""
    },
    "tags": []
   },
   "outputs": [
    {
     "name": "stdout",
     "output_type": "stream",
     "text": [
      "importing Jupyter notebook from util.ipynb\n"
     ]
    }
   ],
   "source": [
    "from util import *\n",
    "\n",
    "class VCol:\n",
    "  White = \"White\"\n",
    "  Gray = \"Gray\"\n",
    "  Black = \"Black\"\n",
    "\n",
    "class Vert(Tagged):\n",
    "  def __init__(self, tag: Tag):\n",
    "    super().__init__(tag)\n",
    "    self.par: Option[Vert] = None\n",
    "    self.dis = Infinity\n",
    "    self.fin = -Infinity\n",
    "    self.col = VCol.White\n",
    "  def init(self) -> None: self.__init__(self.tag)\n",
    "\n",
    "  def __str__(self) -> str: return f\"{self.tag} {self.showParent()} {self.showTimes()}\"\n",
    "  def show(self) -> str: return f\"{self.tag}{f' {self.showTimes()}' if self.dis != Infinity else ''}\"\n",
    "  def showParent(self) -> str: return \"^\" + self.par.tag if not self.isRoot() else \"None\"\n",
    "  def showTimes(self) -> str: return f\"{self.dis if self.dis != Infinity else ''}{f'/{self.fin}' if self.fin != -Infinity else ''}\"\n",
    "\n",
    "  def isRoot(self) -> bool: return isNone(self.par)"
   ]
  },
  {
   "cell_type": "markdown",
   "id": "3f35c5ab-c76e-44ea-be5d-5d490f9b2295",
   "metadata": {
    "editable": true,
    "slideshow": {
     "slide_type": ""
    },
    "tags": []
   },
   "source": [
    "## *edge*\n",
    "\n",
    "An edge merely points to the from-vertex $u$ from whence it originates and the to-vertex $v$ into which it terminates. For debugging and logging convenience, we define the edge tag to be `utag` and `vtag` joined by `-`. We use the `makeETag()` utility function to make the edge tag from the vertex tags, during the construction of the edge.\n",
    "\n",
    "Also, some graph search algorithms produce a forest of trees, and their edges must be categorised as described in *Classification of edges* p.569: tree edge `T`, back edge `B`, forward edge `F`, and cross edge `C`. These four classification label are defined in `ECls` enumeration, and they are stored in the `cls` attribute. We additionally define the `X` label to initialise `cls` during the construction of an edge.\n",
    "\n",
    "As we did with `Vert`, we inject these oft-used attributes into `Edge`, instead of polluting the code with additional edge types."
   ]
  },
  {
   "cell_type": "code",
   "execution_count": 3,
   "id": "9bf4637f-de31-40a0-961b-1d3c4e06961f",
   "metadata": {},
   "outputs": [],
   "source": [
    "class ECls:\n",
    "  X = \"X\"  # don't care\n",
    "  T = \"T\"  # tree edge\n",
    "  B = \"B\"  # back edge\n",
    "  F = \"F\"  # forward edge\n",
    "  C = \"C\"  # cross edge\n",
    "\n",
    "class Edge(Tagged):\n",
    "  def __init__(self, u: Vert, v: Vert):\n",
    "    super().__init__(makeETag(u, v))\n",
    "    self.u = u\n",
    "    self.v = v\n",
    "    self.cls = ECls.X\n",
    "  def init(self) -> None: self.__init__(self.u, self.v)\n",
    "\n",
    "  def __str__(self) -> str: return f\"{self.tag} {self.showClassification()}\"\n",
    "  def show(self) -> str: return f\"{self.showClassification()}\"\n",
    "  def showClassification(self) -> str: return self.cls if self.cls != ECls.X else \"\"\n",
    "\n",
    "  def isSelfLoop(self) -> bool: return self.u == self.v\n",
    "\n",
    "def makeETag(u: Vert, v: Vert) -> Tag: return f\"{u.tag}-{v.tag}\"\n",
    "\n",
    "def parseETag(etag: Tag) -> [Tag, Tag]: return etag.split(\"-\")\n",
    "\n",
    "def indicesOfETag(etag: Tag) -> [int, int]:\n",
    "  [utag, vtag] = parseETag(etag)\n",
    "  return [int(utag) - 1, int(vtag) - 1]  # vtag starts at 1\n",
    "\n",
    "def etagOfIndices(i: int, j: int): return f\"{i + 1}-{j + 1}\""
   ]
  },
  {
   "cell_type": "markdown",
   "id": "3f8d8abf-c473-4a1e-bc03-4f1bcd5bad6e",
   "metadata": {},
   "source": [
    "## *graph*\n",
    "\n",
    "With `Vert` and `Edge` in hand, we now define `Vset` and `ESet`. We could use the Python `Set` type here, but since we wish to retrieve vertices and edges by their tags, we use the Python `Dict` type instead. And in anticipation of later chapters that use adjacency matrix representation, we will go ahead and define `WMtx`."
   ]
  },
  {
   "cell_type": "code",
   "execution_count": 4,
   "id": "13c805c7-6e8c-46f1-b51a-87f640f0c3c6",
   "metadata": {},
   "outputs": [],
   "source": [
    "VSet = {Tag, Vert}  # vertex set\n",
    "ESet = {Tag, Edge}  # edge set\n",
    "WMtx = [[float]]  # adjacency matrix of edge weights"
   ]
  },
  {
   "cell_type": "markdown",
   "id": "d46b31eb-b764-434f-ada5-3bc501f68429",
   "metadata": {},
   "source": [
    "Since graph search algorithms produce trees as their results, we need to define the tree type, as well. But a tree is conveniently represented as a graph. So, we define the `VE` type as the base class for both graph and tree. Furthermore, since we will need both the adjacency list and the adjacency matrix representations, we make `VE` an abstract base class, and derive `LstVE` and `MtxVE` from it. Note that we could use `Tuple[VSet, ESet]` to represent `VE`; that would be mathematically accurate. Computationally, though, it is more convenient to derive `VE` from `Tagged`. We may then use the tag in debugging and logging graphs and trees.\n",
    "\n",
    "We use the type variable `β` to stand for the `Vert` family of types and the type variable `ϵ` to stand for `Edge` family of types. This way, when algorithms that use types derived from `Vert` and `Edge` call `getV()` and `getE()`, they receive objects of the correct derived types, instead of those of the base `Vert` and `Edge` types.\n",
    "\n",
    "On a side note, the Greek letter $β$ stands for the English letter $b$ as well as $v$, depending on the context. The Greek letter $𝜈$ stands for the English letter $n$. Hence, we use the type variable `β` for `Vert`.\n",
    "\n",
    "Well, we have gone off onto a side track, so let us ploud along a bit further. In mathematical, scientific, and engineering computing—unlike in business [CRUD](https://en.wikipedia.org/wiki/Create,_read,_update_and_delete)ing—we use short variable names, often single-letter names. And our functions tend to have very short names, too. The reason is plain. In technical computing, we always know what we must implement, because we have either derived and proved the equations and the algorithms ourselves or we lifted them off an authoritative textbook. In order that we may verify the correctness of our code readily by visual inspection, us make our code resemble as close as possible to the equations and the algorithms in the source.\n",
    "\n",
    "Moreover, we document our code with chapter, section, and page citation to source. In this line of work, we do not subscribe to that abhorent twin motto of IT: \"Real men do not document; the code is the document. And real men do not comment; long variable names are the comments.\"\n",
    "\n",
    "There are other differences between the two fields. In business CRUDing, the data structures tend to be rather complicated, but there really are no algorithms to speak of, let alone complicated ones. By contrast, in technical computing, the lists and queues are the common data structures, but the algorithms can be quite intricate. In other words, business CRUDing complexities are in the data structure, whereas technical computing complexities are in the code structure. Using short names make our code compact, and the compact code allows us to see the whole algorithm on the screen at once, thereby enabling us to gain a better purchase upon the code."
   ]
  },
  {
   "cell_type": "code",
   "execution_count": 5,
   "id": "105fbd69-a912-4085-bc41-d7e5ee93de47",
   "metadata": {},
   "outputs": [],
   "source": [
    "from typing import Generic, TypeVar\n",
    "from functools import reduce\n",
    "\n",
    "β = TypeVar(\"β\")\n",
    "ϵ = TypeVar(\"ϵ\")\n",
    "\n",
    "class VE(Tagged, Generic[β, ϵ]):  # abstract base for graph and tree types\n",
    "  def __init__(self, tag: Tag):\n",
    "    super().__init__(tag)\n",
    "\n",
    "  def makeVE(self, vt: [Tag], et: [Tag]) -> None:\n",
    "    self.makeV(vt)\n",
    "    self.makeE(et)\n",
    "  def makeV(self, vt: [Tag]) -> None: todo()\n",
    "  def makeE(self, et: [Tag]) -> None: todo()\n",
    "\n",
    "  def __str__(self) -> str: return self.tag + \"\\n\" + self.showVertices() + \"\\n\" + self.showEdges()\n",
    "  def showVertices(self) -> str:\n",
    "    def neighbors(u: β) -> str: return \",\".join([v.tag for v in self.adj(u)])\n",
    "    return \"\\n\".join([f\"  {u}\\n    [{neighbors(u)}]\" for u in self.getVV()])\n",
    "  def showEdges(self) -> str: return \"\\n\".join([f\"  {e}\" for e in self.getEE()])\n",
    "\n",
    "  # vertex\n",
    "\n",
    "  def insV(self, v: β) -> None: todo()\n",
    "  def delV(self, v: β) -> None: todo()\n",
    "  def dupVV(self, vv: VSet) -> None: todo()\n",
    "  def getV(self, vtag: Tag) -> β: todo()\n",
    "  def getVV(self) -> [β]: todo()\n",
    "  def numVV(self) -> int: todo()\n",
    "  def adj(self, u: β) -> [β]: todo()\n",
    "  def hasV(self, vtag: Tag) -> bool: todo()\n",
    "\n",
    "  # edge\n",
    "\n",
    "  def insE(self, e: ϵ) -> None: todo()\n",
    "  def delE(self, e: ϵ) -> None: todo()\n",
    "  def dupEE(self, ee: ESet) -> None: todo()\n",
    "  def getE(self, etag: Tag) -> ϵ: todo()\n",
    "  def getEE(self) -> [ϵ]: todo()\n",
    "  def numEE(self) -> int: todo()\n",
    "  def hasE(self, etag: Tag) -> bool: todo()"
   ]
  },
  {
   "cell_type": "markdown",
   "id": "651b5f14-8e17-4e71-ab1b-6e4ccc406d87",
   "metadata": {},
   "source": [
    "Now, let us define the adjacency list version `LstVE` concrete implementation of the abstract base class `VE`."
   ]
  },
  {
   "cell_type": "code",
   "execution_count": 6,
   "id": "8a731628-74ea-4e59-a1f4-11b74dcd4ee5",
   "metadata": {},
   "outputs": [],
   "source": [
    "class LstVE(VE):  # adjacency list representation of graphs and trees\n",
    "  def __init__(self, tag: Tag):\n",
    "    super().__init__(tag)\n",
    "    self.vv: VSet = {}\n",
    "    self.ee: ESet = {}\n",
    "\n",
    "  def makeV(self, vt: [Tag]) -> None:\n",
    "    for vtag in vt: self.vv[vtag] = Vert(vtag)\n",
    "  def makeE(self, et: [Tag]) -> None:\n",
    "    for etag in et:\n",
    "      [utag, vtag] = parseETag(etag)\n",
    "      e = Edge(self.getV(utag), self.getV(vtag))\n",
    "      self.ee[e.tag] = e\n",
    "\n",
    "  def pathSV(self, s: β, v: β) -> [β]:\n",
    "    # path from source vertex s to vertex v; see p.562\n",
    "    return [s] if v.isRoot() or v == s else [v, *self.pathSV(s, v.par)]\n",
    "  def isAncestor(self, u: β, v: β) -> bool:\n",
    "    # check if vertex u is the ancestor of vertex v (there exists a path from u ~> v)\n",
    "    def reachable(a: β) -> bool:\n",
    "      # check if a can reach v\n",
    "      aa = self.adj(a)  # edge a -> v\n",
    "      return True if v in aa else reduce(lambda acc, b: acc or reachable(b), aa, False)  # path a ~> v\n",
    "    return True if u == v else reachable(u)  # self-loop or path\n",
    "  def isDescendant(self, v: β, u: β) -> bool: return self.isAncestor(u, v)\n",
    "\n",
    "  def insV(self, v: β) -> None: self.vv[v.tag] = v\n",
    "  def delV(self, v: β) -> None: self.vv.pop(v.tag)\n",
    "  def dupVV(self, vv: VSet) -> None: self.vv = {**vv}\n",
    "  def getV(self, vtag: Tag) -> β: return self.vv[vtag]\n",
    "  def getVV(self) -> [β]: return list(self.vv.values())\n",
    "  def numVV(self) -> int: return len(self.getVV())\n",
    "  def adj(self, u: β) -> [β]: return [self.getV(e.v.tag) for e in self.getEE() if e.u.tag == u.tag]\n",
    "  def hasV(self, vtag: Tag) -> bool: return vtag in self.vv\n",
    "\n",
    "  def insE(self, e: ϵ) -> None: self.ee[e.tag] = e\n",
    "  def delE(self, e: ϵ) -> None: self.ee.pop(e.tag)\n",
    "  def dupEE(self, ee: ESet) -> None: self.ee = {**ee}\n",
    "  def getE(self, etag: Tag) -> ϵ: return self.ee[etag]\n",
    "  def getEE(self) -> [ϵ]: return list(self.ee.values())\n",
    "  def numEE(self) -> int: return len(self.getEE())\n",
    "  def hasE(self, etag: Tag) -> bool: return etag in self.ee"
   ]
  },
  {
   "cell_type": "markdown",
   "id": "abc551f7-0f94-4f01-8849-18e388ea3919",
   "metadata": {},
   "source": [
    "Similarly, we define the adjacency matrix version `MtxVE` concrete implementation of the abstract base class `VE`. Below, we inherit `MtxVE` from the adjacency list version `LstVE`, because we may then continue to use `draw()` and other convenience functions without having to provide the matrix-specific versions thereof. All we need do is to add the `ww` matrix and modify the `makeV()` function. This expedient, but shoddy, shortcut is acceptable here, because the dense graphs used in the later chapters are very small. In a practical situation where space conservation is important for large, dense graphs, we would derive `MtxVE` directly from the abstract class `VE`, and provide matrix-specific implementations."
   ]
  },
  {
   "cell_type": "code",
   "execution_count": 7,
   "id": "a128d6d3-46ba-46ca-8fd4-e1d4a92ebb24",
   "metadata": {},
   "outputs": [],
   "source": [
    "WMtx = [[float]]  # adjacency matrix of edge weights\n",
    "\n",
    "class MtxVE(LstVE):  # adjacency matrix representation of graphs and trees\n",
    "  def __init__(self, tag: Tag):\n",
    "    super().__init__(tag)\n",
    "    self.ww: WMtx = []  # edge weight matrix\n",
    "\n",
    "  def pathASP(self, i: int, j: int) -> [int]:\n",
    "    if not dd or not pp: raise Exception(\"shortest paths not yet computed\")\n",
    "    if self.pp[i][j] == -Infinity: return []\n",
    "    elif i == j: return [i]\n",
    "    else: return self.pathASP(i, pp[i][j])\n",
    "\n",
    "  def makeV(self, vt: [Tag]) -> None:\n",
    "    for vtag in vt: self.vv[vtag] = Vert(vtag)\n",
    "    n = len(vt)\n",
    "    r = range(0, n)\n",
    "    # see Equation 23.1 p.647\n",
    "    self.ww = [[Infinity] * n for _ in r]\n",
    "    for i in r: self.ww[i][i] = 0"
   ]
  },
  {
   "cell_type": "markdown",
   "id": "db39bcc3-1f28-4034-9c45-a6bfb7b303f5",
   "metadata": {},
   "source": [
    "Note that we use double-letter variables `vv` and `ee` to represent the plurals \"vertices\" and \"edges\". This is a convention in the [*Blue Book* legal citation](https://guides.library.harvard.edu/law/bluebook), where single-page citation is written \"p.*n*\", and multi-page citation is written either \"pp.*m*,*n*\" for discontiguous pages or \"pp.*m*-*n*\" for contiguous pages.\n",
    "\n",
    "Above, `adj(u)` returns vertex $u$'s adjacency list, which is a list of all the neighbouring vertices. To be consistent with our own naming convention, we should call it `adjVV()`. But we chose to follow CLRS's naming convention and call it `adj()`, instead. For convenience, we wish to construct graphs and trees from textual configuration data comprised of a list of vertex tags `[Tag] = [\"u\", \"v\", ...]` and a list of edge tags `[Tag] = [\"u-a\", \"u-b\", \"v-c\"], ...]`. The utility function `makeVE()` interprets the configuration data and constructs the vertices and the edges. So, we may create and configure a graph thus: `g = Graph(\"g\").makeVE(vt, et)`.\n",
    "\n",
    "Finally, we define `LstGraph`, `LstTree`, `MtxGraph`, and `MtxTree`. Since all the functionalities have been implemented in the base classes, the derived classes are just empty tags."
   ]
  },
  {
   "cell_type": "code",
   "execution_count": 8,
   "id": "47152ab1-97cd-4240-8ed2-e015d1f0c982",
   "metadata": {},
   "outputs": [],
   "source": [
    "class LstGraph(LstVE): pass\n",
    "class LstTree(LstVE): pass\n",
    "\n",
    "class MtxGraph(MtxVE): pass\n",
    "class MtxTree(MtxVE): pass"
   ]
  },
  {
   "cell_type": "markdown",
   "id": "36ef1339-f2a5-4130-836f-94263a8fc483",
   "metadata": {},
   "source": [
    "## *visualisation*\n",
    "\n",
    "In tests, we use the *Graphviz* graph visualisation library to draw the graph `bg`. We use the `sfdp` scalable force-directed placement layout engine, because it yields the most pleasing arrangement of vertices. See [*Graphviz documentation*](https://graphviz.org/) for details."
   ]
  },
  {
   "cell_type": "code",
   "execution_count": 9,
   "id": "e61540fa-841a-49cb-8a29-6d87154a2e55",
   "metadata": {},
   "outputs": [],
   "source": [
    "import graphviz as V\n",
    "\n",
    "def draw(g: Union[LstGraph, MtxGraph, LstTree], directed: bool, label: str = \"\", engine: str = \"sfdp\") -> V.Graph:\n",
    "  # returned gv must be evaluated in the top level scope for it to render in the notebook\n",
    "  gv = V.Digraph(engine=engine) if directed else V.Graph(engine=engine)\n",
    "  gv.attr(label=label if label != \"\" else g.tag)\n",
    "  for v in g.getVV(): gv.node(v.tag, label=v.show(), shape=f\"{'rectangle' if v.isRoot() else 'ellipse'}\")\n",
    "  ed = {}  # already drawn edges\n",
    "  for e in g.getEE():\n",
    "    vutag = makeETag(e.v, e.u)\n",
    "    if directed or vutag not in ed.keys():  # for undirected graph, avoid drawing (u, v) if (v, u) has already been drawn\n",
    "      gv.edge(e.u.tag, e.v.tag, label=e.show())\n",
    "      ed[e.tag] = e\n",
    "  return gv"
   ]
  },
  {
   "cell_type": "markdown",
   "id": "42a0af1b-fab8-410b-abce-e837f740fc92",
   "metadata": {},
   "source": [
    "# Conclusion\n",
    "\n",
    "In this notebook, we implemented the graph data structures described in CLRS Chapter 20."
   ]
  }
 ],
 "metadata": {
  "kernelspec": {
   "display_name": "Python 3 (ipykernel)",
   "language": "python",
   "name": "python3"
  },
  "language_info": {
   "codemirror_mode": {
    "name": "ipython",
    "version": 3
   },
   "file_extension": ".py",
   "mimetype": "text/x-python",
   "name": "python",
   "nbconvert_exporter": "python",
   "pygments_lexer": "ipython3",
   "version": "3.8.17"
  }
 },
 "nbformat": 4,
 "nbformat_minor": 5
}
