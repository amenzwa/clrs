{
 "cells": [
  {
   "cell_type": "code",
   "execution_count": 1,
   "id": "b725abd8-b20f-48d8-9dcc-5690170499f5",
   "metadata": {},
   "outputs": [],
   "source": [
    "# automatically reload dependant notebooks\n",
    "%load_ext autoreload\n",
    "%autoreload 2\n",
    "import import_ipynb"
   ]
  },
  {
   "cell_type": "markdown",
   "id": "58cde7ea-b6cf-4dc2-a723-c011dda0aaf2",
   "metadata": {
    "editable": true,
    "slideshow": {
     "slide_type": ""
    },
    "tags": []
   },
   "source": [
    "# Graph Representation\n",
    "\n",
    "Mathematically, a graph $G = (V, E)$ is a tuple of the vertex set $V$ and the edge set $E$. So, we begin by defining the `Vert` and the `Edge` types and their respective sets. There are two common representations of graphs: adjacency matrix and adjacency list. The adjacency matrix representation is convenient for dense graphs. But most graph algorithms employ relatively sparce graphs. So, we shall use the adjacency list representation, here. See §20.1 *Representations of graphs* p.549.\n",
    "\n",
    "Do note that because this notebook defines the fundamental graph representations, we factored out the tests, whcih perform printing and drawing, into the [`graphtest.ipynb`](./graphtest.ipynb) notebook.\n",
    "\n",
    "## *vertex*\n",
    "\n",
    "First, we define the `Vert` type. Because graph algorithms label the vertices and edges, we derive `Vert` from the `Tagged` base type, which is defined in [`util.ipynb`](./util.ipynb) notebook. And these algorithms store some state data in the vertex to keep track of progress as it explores the input graph. The `par` variable points to the parent vertex, the one from which the current vertex was discovered. But since a root vertex has no parent, we assign this variable the `Option[Vert]` type. The `Option` utility type is also defined in the `util` notebook. During construction of the vertex, we initialise `par` to `None`. The `dis` variable is the time the vertex was discovered. It is set to `Infinity` during initialisation. The `fin` variable is the time when processing of the vertex finished. It is used only by DFS, and is initialised to `-Infinity`, since a valid finish time can never be smallter than a valid discover time. And the `col` variable is the vertex colour. `White` means the vertex has not been explored. `Gray` means the vertex has been discovered. And `Black` means the vertex has been fully processed. All vertices are `White` at the start of a graph search algorithm. Here, we added `init()`, so that we may call it to reinitialise the vertex, later.\n",
    "\n",
    "If we are objectively pedantic, we would have defined the `BFVertex` type for breadth-first search (BFS) and the `DFVertex` for depth-first search (DFS), and `fin` would be a member only of `DFVertex`. But since these are simple, elementary algorithms used everywhere, it is better not to over complicate the matter and settle for a less elegant but more convenient combined type `Vert`."
   ]
  },
  {
   "cell_type": "code",
   "execution_count": 2,
   "id": "56410bcc-f881-4f25-8737-e11f7c7915de",
   "metadata": {
    "editable": true,
    "slideshow": {
     "slide_type": ""
    },
    "tags": []
   },
   "outputs": [
    {
     "name": "stdout",
     "output_type": "stream",
     "text": [
      "importing Jupyter notebook from util.ipynb\n"
     ]
    }
   ],
   "source": [
    "from util import *\n",
    "\n",
    "class VColor:\n",
    "  White = \"White\"\n",
    "  Gray = \"Gray\"\n",
    "  Black = \"Black\"\n",
    "\n",
    "class Vert(Tagged):\n",
    "  def __init__(self, tag: Tag):\n",
    "    super().__init__(tag)\n",
    "    self.par: Option[Vert] = None\n",
    "    self.dis = Infinity\n",
    "    self.fin = -Infinity\n",
    "    self.col = VColor.White\n",
    "  def init(self) -> None: self.__init__(self.tag)\n",
    "\n",
    "  def __str__(self) -> str: return f\"{self.tag} {self.showParent()} {self.showTimes()}\"\n",
    "  def show(self) -> str: return f\"{self.tag}{f' {self.showTimes()}' if self.dis != Infinity else ''}\"\n",
    "  def showParent(self) -> str: return \"^\" + self.par.tag if not self.isRoot() else \"None\"\n",
    "  def showTimes(self) -> str: return f\"{self.dis if self.dis != Infinity else ''}{f'/{self.fin}' if self.fin != -Infinity else ''}\"\n",
    "\n",
    "  def isRoot(self) -> bool: return isNone(self.par)"
   ]
  },
  {
   "cell_type": "markdown",
   "id": "3f35c5ab-c76e-44ea-be5d-5d490f9b2295",
   "metadata": {
    "editable": true,
    "slideshow": {
     "slide_type": ""
    },
    "tags": []
   },
   "source": [
    "## *edge*\n",
    "\n",
    "An edge merely points to the from-vertex $u$ from whence it originates and the to-vertex $v$ into which it terminates. For debugging and logging convenience, we define the edge tag to be `utag` and `vtag` joined by `-`. We use the `makeETag()` utility function to make the edge tag from the vertex tags, during the construction of the edge.\n",
    "\n",
    "Also, some graph search algorithms produce a forest of trees, and their edges must be categorised as described in *Classification of edges* p.569: tree edge `T`, back edge `B`, forward edge `F`, and cross edge `C`. These four classification label are defined in `EClass` enumeration, and they are stored in the `cls` attribute. We additionally define the `X` label to initialise `cls` during the construction of an edge.\n",
    "\n",
    "As we did with `Vert`, we inject these oft-used attributes into `Edge`, instead of polluting the code with additional edge types."
   ]
  },
  {
   "cell_type": "code",
   "execution_count": 3,
   "id": "9bf4637f-de31-40a0-961b-1d3c4e06961f",
   "metadata": {},
   "outputs": [],
   "source": [
    "from typing import Tuple\n",
    "\n",
    "class EClass:\n",
    "  X = \"X\"  # don't care\n",
    "  T = \"T\"  # tree edge\n",
    "  B = \"B\"  # back edge\n",
    "  F = \"F\"  # forward edge\n",
    "  C = \"C\"  # cross edge\n",
    "\n",
    "class Edge(Tagged):\n",
    "  def __init__(self, u: Vert, v: Vert):\n",
    "    super().__init__(makeETag(u, v))\n",
    "    self.u = u\n",
    "    self.v = v\n",
    "    self.cls = EClass.X\n",
    "  def init(self) -> None: self.__init__(self.u, self.v)\n",
    "\n",
    "  def __str__(self) -> str: return f\"{self.tag} {self.showClassification()}\"\n",
    "  def show(self) -> str: return f\"{self.showClassification()}\"\n",
    "  def showClassification(self) -> str: return self.cls if self.cls != EClass.X else \"\"\n",
    "\n",
    "  def isSelfLoop(self) -> bool: return self.u == self.v\n",
    "\n",
    "def makeETag(u: Vert, v: Vert) -> Tag: return f\"{u.tag}-{v.tag}\"\n",
    "\n",
    "def parseETag(etag: Tag) -> Tuple[Tag, Tag]: return etag.split(\"-\")"
   ]
  },
  {
   "cell_type": "markdown",
   "id": "3f8d8abf-c473-4a1e-bc03-4f1bcd5bad6e",
   "metadata": {},
   "source": [
    "## *graph*\n",
    "\n",
    "With `Vert` and `Edge` in hand, we now define `Vset` and `ESet`. We could use the Python `Set` type here, but since we wish to retrieve vertices and edges by their tags, we use the Python `Dict` type instead."
   ]
  },
  {
   "cell_type": "code",
   "execution_count": 4,
   "id": "13c805c7-6e8c-46f1-b51a-87f640f0c3c6",
   "metadata": {},
   "outputs": [],
   "source": [
    "from typing import Dict, TypeVar\n",
    "\n",
    "β = TypeVar(\"β\")\n",
    "VSet = Dict[Tag, Vert]\n",
    "\n",
    "ϵ = TypeVar(\"ϵ\")\n",
    "ESet = Dict[Tag, Edge]"
   ]
  },
  {
   "cell_type": "markdown",
   "id": "d46b31eb-b764-434f-ada5-3bc501f68429",
   "metadata": {},
   "source": [
    "Since graph search algorithms produce trees as their results, we need to define the `Tree` type, as well. But a tree is conveniently represented as a graph. So, we define the `VE` type as the base class for both `Graph` and `Tree`. We could use `Tuple[VSet, ESet]` to represent `VE`; that would be mathematically accurate. Computationally, though, it is more convenient to derive `VE` from `Tagged`. We may then use the tag in debugging and logging graphs and trees."
   ]
  },
  {
   "cell_type": "code",
   "execution_count": 5,
   "id": "33d09421-6366-4dc3-9106-d6310b4ba7f7",
   "metadata": {},
   "outputs": [],
   "source": [
    "from typing import Generic, List\n",
    "\n",
    "class VE(Tagged, Generic[β, ϵ]):\n",
    "  def __init__(self, tag: Tag):\n",
    "    super().__init__(tag)\n",
    "    self.vv: VSet = {}\n",
    "    self.ee: ESet = {}\n",
    "  def init(self) -> None:\n",
    "    for u in self.getVV(): u.init()\n",
    "    for e in self.getEE(): e.init()\n",
    "\n",
    "  def makeVE(self, vt: List[Tag], et: List[Tag]) -> None:\n",
    "    self.makeV(vt)\n",
    "    self.makeE(et)\n",
    "  def makeV(self, vt: List[Tag]) -> None:\n",
    "    for vtag in vt: self.vv[vtag] = Vert(vtag)\n",
    "  def makeE(self, et: List[Tag]) -> None:\n",
    "    for etag in et:\n",
    "      [utag, vtag] = parseETag(etag)\n",
    "      e = Edge(self.getV(utag), self.getV(vtag))\n",
    "      self.ee[e.tag] = e\n",
    "\n",
    "  def __str__(self) -> str:\n",
    "    return self.tag + \"\\n\" + self.showVertices() + \"\\n\" + self.showEdges()\n",
    "  def showVertices(self) -> str:\n",
    "    def neighbors(u: β) -> str: return \",\".join([v.tag for v in self.adj(u)])\n",
    "    return \"\\n\".join([f\"  {u}\\n    [{neighbors(u)}]\" for u in self.getVV()])\n",
    "  def showEdges(self) -> str:\n",
    "    return \"\\n\".join([f\"  {e}\" for e in self.getEE()])\n",
    "\n",
    "  # vertex\n",
    "\n",
    "  def insV(self, v: β) -> None:\n",
    "    self.vv[v.tag] = v\n",
    "  def delV(self, v: β) -> None:\n",
    "    self.vv.pop(v.tag)\n",
    "  def dupVV(self, vv: VSet) -> None:\n",
    "    self.vv = {**vv}\n",
    "  def getV(self, vtag: Tag) -> β:\n",
    "    return self.vv[vtag]\n",
    "  def getVV(self) -> List[β]:\n",
    "    return list(self.vv.values())\n",
    "  def numVV(self) -> int:\n",
    "    return len(self.getVV())\n",
    "  def adj(self, u: β) -> List[β]:\n",
    "    return [self.getV(e.v.tag) for e in self.getEE() if e.u.tag == u.tag]\n",
    "  def path(self, s: β, v: β) -> List[β]:\n",
    "    # see p.562\n",
    "    if v.isRoot(): return []\n",
    "    return [s] if v == s else [v, *self.path(s, v.par)]\n",
    "  def isAncestor(self, u: β, v: β) -> bool:\n",
    "    # check if vertex u is the ancestor of vertex v (there exists a path from u ~> v)\n",
    "    def reachable(a: β) -> bool:\n",
    "      # check if a can reach v\n",
    "      aa = self.adj(a)  # edge a -> v\n",
    "      return True if v in aa else reduce(lambda acc, b: acc or reachable(b), aa, False)  # path a ~> v\n",
    "    return True if u == v else reachable(u)  # self-loop or path\n",
    "  def isDescendant(self, v: β, u: β) -> bool:\n",
    "    return self.isAncestor(u, v)\n",
    "  def hasV(self, vtag: Tag) -> bool:\n",
    "    return vtag in self.vv\n",
    "\n",
    "  # edge\n",
    "\n",
    "  def insE(self, e: ϵ) -> None:\n",
    "    self.ee[e.tag] = e\n",
    "  def delE(self, e: ϵ) -> None:\n",
    "    self.ee.pop(e.tag)\n",
    "  def dupEE(self, ee: ESet) -> None:\n",
    "    self.ee = {**ee}\n",
    "  def getE(self, etag: Tag) -> ϵ:\n",
    "    return self.ee[etag]\n",
    "  def getEE(self) -> List[ϵ]:\n",
    "    return list(self.ee.values())\n",
    "  def numEE(self) -> int:\n",
    "    return len(self.getEE())\n",
    "  def hasE(self, etag: Tag) -> bool:\n",
    "    return etag in self.ee"
   ]
  },
  {
   "cell_type": "markdown",
   "id": "db39bcc3-1f28-4034-9c45-a6bfb7b303f5",
   "metadata": {},
   "source": [
    "Note that we use double-letter variables `vv` and `ee` to represent the plurals \"vertices\" and \"edges\". This is a convention in the [*Blue Book* legal citation](https://guides.library.harvard.edu/law/bluebook), where single-page citation is written \"p.*n*\", and multi-page citation is written either \"pp.*m*,*n*\" for discontiguous pages or \"pp.*m*-*n*\" for contiguous pages.\n",
    "\n",
    "Above, `adj(u)` returns vertex $u$'s adjacency list, which is a list of all the neighbouring vertices. To be consistent with our own naming convention, we should call it `adjVV()`. But we chose to follow CLRS's naming convention and call it `adj()`, instead. For convenience, we wish to construct graphs and trees from textual configuration data comprised of a list of vertex tags `List[Tag] = [\"u\", \"v\", ...]` and a list of edge tags `List[Tag] = [\"u-a\", \"u-b\", \"v-c\"], ...]`. The utility function `makeVE()` interprets the configuration data and constructs the vertices and the edges. So, we may create and configure a graph thus: `g = Graph(\"g\").makeVE(vt, et)`.\n",
    "\n",
    "Now that we have an adequate `VE`, we may define `Graph` and `Tree` atop it. Since all the functionalities have been implemented in the base class, the derived classes are just empty tags."
   ]
  },
  {
   "cell_type": "code",
   "execution_count": 6,
   "id": "47152ab1-97cd-4240-8ed2-e015d1f0c982",
   "metadata": {},
   "outputs": [],
   "source": [
    "class Graph(VE): pass\n",
    "class Tree(VE): pass"
   ]
  },
  {
   "cell_type": "markdown",
   "id": "36ef1339-f2a5-4130-836f-94263a8fc483",
   "metadata": {},
   "source": [
    "## *visualisation*\n",
    "\n",
    "In tests, we use the *Graphviz* graph visualisation library to draw the graph `bg`. We use the `sfdp` scalable force-directed placement layout engine, because it yields the most pleasing arrangement of vertices. See [*Graphviz documentation*](https://graphviz.org/) for details."
   ]
  },
  {
   "cell_type": "code",
   "execution_count": 7,
   "id": "e61540fa-841a-49cb-8a29-6d87154a2e55",
   "metadata": {},
   "outputs": [],
   "source": [
    "import graphviz as V\n",
    "\n",
    "def draw(g: Union[Graph, Tree], directed: bool, label: str = \"\", engine: str = \"sfdp\") -> V.Graph:\n",
    "  # returned gv must be evaluated in the top level scope for it to render in the notebook\n",
    "  gv = V.Digraph(engine=engine) if directed else V.Graph(engine=engine)\n",
    "  gv.attr(label=label if label != \"\" else g.tag)\n",
    "  for v in g.getVV(): gv.node(v.tag, label=v.show(), shape=f\"{'rectangle' if v.isRoot() else 'ellipse'}\")\n",
    "  ed = {}  # already drawn edges\n",
    "  for e in g.getEE():\n",
    "    vutag = makeETag(e.v, e.u)\n",
    "    if directed or vutag not in ed.keys():  # for undirected graph, avoid drawing (u, v) if (v, u) has already been drawn\n",
    "      gv.edge(e.u.tag, e.v.tag, label=e.show())\n",
    "      ed[e.tag] = e\n",
    "  return gv"
   ]
  },
  {
   "cell_type": "markdown",
   "id": "8a877362-c3ea-49fc-9cae-a657718a1b7b",
   "metadata": {},
   "source": [
    "# Elementary Graph Algorithms\n",
    "\n",
    "If you have not read CLRS 4ed Chapter 20 *Elementary Graph Algorithms*, read it now, before proceeding with this notebook. The chapter presents two graph algorithms—bread-first search (BFS) and depth-first search (DFS)—which are used by just about every graph application. These algorithms work on both directed and undirected graphs.\n",
    "\n",
    "## *breadth-first search*\n",
    "\n",
    "BFS discovers a breadth-first tree (BFT) within graph $G = (V, E)$, staring from the source vertex $s$, exploring outward one edge-distance at a time, until all the vertices have been explored. See §20.2 *Breadth-first search* p.554.\n",
    "\n",
    "Since the `Graph` constructor has already initialised the vertex and edge attributes, it may seem superfluous to reinitialise ther vertices, here. But this step is actually necessary, since we may wish to call `bfs()` multiple times on the same graph. The `Gray` vertices, which have been discovered but have not finished processing, are stored in a first-in, first-out (FIFO) queue described in §10.1.3 *Stacks and queues* p.254.\n",
    "\n",
    "The purpose of BFS is to discover a breadth-first tree (BFT) witihn the graph. So, we implement `bft()`. This function accepts a graph, runs `bfs()` on the graph, and extracts a BFT therefrom. Since both BFS and DFS use the same initialisation sequence, we will implement the `init()` function, first."
   ]
  },
  {
   "cell_type": "code",
   "execution_count": 8,
   "id": "3900b6b0-671e-4cf9-8057-d62a99b4fef1",
   "metadata": {},
   "outputs": [],
   "source": [
    "from queue import Queue\n",
    "\n",
    "def init(g: Graph) -> None:\n",
    "  for u in g.getVV():\n",
    "    u.par = None\n",
    "    u.dis = Infinity\n",
    "    u.col = VColor.White\n",
    "\n",
    "def bfs(g: Graph, s: Vert) -> Graph:\n",
    "  def explore() -> Graph:\n",
    "    if q.empty(): return g\n",
    "    u = q.get()\n",
    "    for v in g.adj(u):\n",
    "      if v.col == VColor.White:\n",
    "        # v discovered\n",
    "        v.par = u\n",
    "        v.dis = u.dis + 1\n",
    "        v.col = VColor.Gray\n",
    "        q.put(v)\n",
    "    # u finished\n",
    "    u.col = VColor.Black\n",
    "    return explore()\n",
    "\n",
    "  # initialize\n",
    "  init(g)\n",
    "  # s discovered\n",
    "  s.par = None\n",
    "  s.dis = 0\n",
    "  s.col = VColor.Gray\n",
    "  # search g\n",
    "  q = Queue()\n",
    "  q.put(s)\n",
    "  return explore()\n",
    "\n",
    "def bft(g: Graph, s: Vert) -> Tree:\n",
    "  g = bfs(g, s)\n",
    "  t = Tree(f\"{g.tag}†\")\n",
    "  for u in g.getVV():\n",
    "    if u == s or not u.isRoot(): t.insV(u)\n",
    "  for u in t.getVV():\n",
    "    if not u.isRoot():\n",
    "      e = g.getE(makeETag(u.par, u))\n",
    "      t.insE(e)\n",
    "  return t"
   ]
  },
  {
   "cell_type": "markdown",
   "id": "38fdfa12-afb4-4300-afdf-c154c6eb95d9",
   "metadata": {},
   "source": [
    "Above, we call the `explore()` inner function recursively, instead of using the `while` loop as CLRS does. When studying algorithms, indeed for all things mathematics, it is essential to be comfortable with recursion. Recursive expressions can be understood by visual inspection, whereas to understand loopy statements, one must be mentally executed the sequence of statements. Familiarity with recursion is also becoming important to programmers now, since many modern programming languages are OO-FP hybrids with good compilers that can optimise tail-call recursions into jump instructions, thereby eliminating the attendant function call overhead. Python's support for recursion is pitiful, for sure. But here, the emphasis is on studying algorithms, not efficiency. If efficiency is our top priority, we should not use Python in the first place."
   ]
  },
  {
   "cell_type": "markdown",
   "id": "e1f230d8-bb1a-4cd9-a869-e95fb27c0da0",
   "metadata": {},
   "source": [
    "## *depth-first search*\n",
    "\n",
    "DFS discovers a depth-first forest (DFF) within the graph by staring from some vertex $u$ and following the outbound edge $(u, v)$ to the neighbour vertex $v$, then proceeding as far as possible before backtracking to $u$ and trying another neighbour, and continuing in this manner until all the vertices have been explored. See §20.3 *Depth-first search* p.563.\n",
    "\n",
    "Since the point of DFS is to discover DFF, we implement `dff()`, as well. And since DFF is pointless without edge classification, we implement edge classification within `dfs()` as described on CLRS p.570. Our implementation of DFS, therefore, is slightly more complicated than that described on CLRS p.565, but this is a necessary, minor departure."
   ]
  },
  {
   "cell_type": "code",
   "execution_count": 9,
   "id": "a19893d3-5981-461e-9470-d30ceafc2dd6",
   "metadata": {},
   "outputs": [],
   "source": [
    "from functools import reduce\n",
    "\n",
    "def dfs(g: Graph) -> Graph:\n",
    "  def explore(u: Vert) -> None:\n",
    "    time[0] += 1\n",
    "    # u discovered\n",
    "    u.dis = time[0]\n",
    "    u.col = VColor.Gray\n",
    "    for v in g.adj(u):\n",
    "      e = g.getE(makeETag(u, v))\n",
    "      if v.col == VColor.Black:\n",
    "        e.cls = EClass.F if u.dis < v.dis else EClass.C\n",
    "      elif v.col == VColor.Gray:\n",
    "        e.cls = EClass.B\n",
    "      elif v.col == VColor.White:\n",
    "        v.par = u\n",
    "        e.cls = EClass.T\n",
    "        explore(v)\n",
    "    time[0] += 1\n",
    "    # u finished\n",
    "    u.fin = time[0]\n",
    "    u.col = VColor.Black\n",
    "\n",
    "  # initialize\n",
    "  init(g)\n",
    "  # search g\n",
    "  time = [0]  # use array instead of a scalar to allow explore() to mutate time\n",
    "  for u in g.getVV():\n",
    "    if u.col == VColor.White: explore(u)\n",
    "  return g\n",
    "\n",
    "def dff(g: Graph) -> Graph:\n",
    "  g = dfs(g)\n",
    "  f = Graph(f\"{g.tag}†\")\n",
    "  f.dupVV(g.vv)\n",
    "  for v in f.getVV():\n",
    "    if not v.isRoot():\n",
    "      e = g.getE(makeETag(v.par, v))\n",
    "      f.insE(e)\n",
    "  return f"
   ]
  },
  {
   "cell_type": "markdown",
   "id": "6863da31-cf2d-4843-b4ca-1aa6e9b251cb",
   "metadata": {},
   "source": [
    "As we had done with BFS, we use the `explore()` recursive inner function to perform the search. CLRS uses the `time: int` global variable. We do not. Instead, we define a local `time: List[int]` in `dfs()`, and update it from within `explore()`. The inner function `explore()` can access variables defined in its outer function `dfs()`. This is called the *closure* property of functions. Python allows reading closure variables, but prohibits mutating them. But if a closure variable references an objects, the inner function may mutate the contents of the object but not the object reference itself. This is the case here: the `time` variable in `explore()` references a list object allocated in `dfs()`, so we may mutate the element `time[0]` but not `time` itself. This is an inelegant solution, but it allows us to follow the CLRS description."
   ]
  },
  {
   "cell_type": "markdown",
   "id": "d9e15383-1b68-4c5e-b1db-577fe9357fa2",
   "metadata": {},
   "source": [
    "# Applications of Elementary Graph Algorithms\n",
    "\n",
    "CLRS Chapter 20 presents two applications: topological sort (TSort) and strongly connected components (SCC).\n",
    "\n",
    "## *topological sort*\n",
    "\n",
    "TSort applies DFS to a directed acyclic graph (DAG) to obtain a linear ordering of the vertices. Many simple tasks, like cooking and cleaning, to intricate processes, like surgical procedure and software compilation, depend on steps being performing in a particular order. A DAG can describe task dependencies, where vertices $u$ and $v$ are tasks and edges $(u, v)$ indicate that $u$ must be perfodelEd after $v$. TSort produces a sensible order of such tasks by applying DFS to the dag `sg` then sorting the vertices in the descending order of their finish times. See §20.4 *Topological sort* p.573."
   ]
  },
  {
   "cell_type": "code",
   "execution_count": 10,
   "id": "e2e493d3-6544-4046-8165-42d11ddc8169",
   "metadata": {},
   "outputs": [],
   "source": [
    "def tsort(g: Graph) -> List[Vert]:\n",
    "    g = dfs(g)\n",
    "    return sorted(g.getVV(), key=lambda u: u.fin, reverse=True)"
   ]
  },
  {
   "cell_type": "markdown",
   "id": "1200dc41-fb3f-428f-808e-af4929ddd504",
   "metadata": {},
   "source": [
    "## *strongly connected components*\n",
    "\n",
    "Strongly connected components (SCC) of a directed graph (digraph) are sets of vertices that are reacheable from each other. See Appendix B.4 *Graphs* pp.1164-1168. CLRS §20.5 *Strongly connected components* presents an algorithm that applies DFS twice to extract an SCC from a digraph. But first, we define the `Comp` component type, which is a `Vert` that contains a set of strongly connected vertices. We also define the `makeCTag()` utility function that forms the component's tag by merging the IDs of its constituent vertices."
   ]
  },
  {
   "cell_type": "code",
   "execution_count": 11,
   "id": "97051527-cb7b-436c-a47e-71d97ba8a28d",
   "metadata": {},
   "outputs": [],
   "source": [
    "class Comp(Vert):\n",
    "  def __init__(self, tag: Tag):\n",
    "    super().__init__(tag)\n",
    "    self.vv: VSet = {}  # strongly connected vertices\n",
    "  def init(self) -> None: self.__init__(self.tag)\n",
    "\n",
    "  def insVV(self, vv: List[Vert]) -> None:\n",
    "    for u in vv: self.vv[u.tag] = u\n",
    "  def getVV(self) -> List[Vert]: return list(self.vv.values())\n",
    "\n",
    "def makeCTag(vv: List[Vert]) -> Tag: return \"+\".join([v.tag for v in vv])"
   ]
  },
  {
   "cell_type": "markdown",
   "id": "abd98b73-534f-45df-9601-df148e8ba310",
   "metadata": {},
   "source": [
    "Now, we implement the SCC algorithm. To comput SCC according to the CLRS algorithm presented on p.577, we require two utility functions: `transpose()` that reverses the edges of a digraph, `sort()` that sorts the vertices by some attribute, and `contract()` that merges the strongly connected vertices into components by contracting the edges. `contract()` uses the DFF to contract its input graph. The contraction of an undirected graph is given on p.1168."
   ]
  },
  {
   "cell_type": "code",
   "execution_count": 12,
   "id": "bd11b744-2d52-4746-93a1-728267c2c1df",
   "metadata": {},
   "outputs": [],
   "source": [
    "from typing import Callable\n",
    "\n",
    "def scc(g: Graph) -> Graph:\n",
    "  g = dfs(g)\n",
    "  r = transpose(g)\n",
    "  s = sort(r, attr=lambda u: u.fin, reverse=True)  # descending sort of vertices by finish times\n",
    "  s = dfs(s)\n",
    "  f = dff(s)\n",
    "  return contract(g, f)\n",
    "\n",
    "def transpose(g: Graph) -> Graph:\n",
    "  # reverse edges\n",
    "  r = Graph(f\"{g.tag}!\")\n",
    "  r.dupVV(g.vv)\n",
    "  for e in g.getEE(): r.insE(Edge(e.v, e.u))  # flip (u, v) to (v, u)\n",
    "  return r\n",
    "\n",
    "def sort(g: Graph, attr: Callable[[Vert], int], reverse: bool = False) -> Graph:\n",
    "  # sort vertices\n",
    "  s = Graph(f\"{g.tag}§\")\n",
    "  for u in sorted(g.getVV(), key=attr, reverse=reverse): s.insV(u)  # sorted vertices\n",
    "  s.dupEE(g.ee)\n",
    "  return s\n",
    "\n",
    "def contract(g: Graph, f: Graph) -> Graph:\n",
    "  # contract DFS g using DFF f\n",
    "  def scv(u: Vert) -> List[Vert]:\n",
    "    aa = f.adj(u)  # vertex u's adjacent vertices in DFF f\n",
    "    return [] if not aa else [v := aa[0], *scv(v)]\n",
    "\n",
    "  c = Graph(f\"{g.tag}₵\")  # SCC c\n",
    "  # create vertices of SCC c\n",
    "  for r in [v for v in g.getVV() if v.isRoot()]:  # for each root vertex r in DFS g\n",
    "    vv = [r, *scv(r)]  # strongly connected vertices rooted at vertex r\n",
    "    x = Comp(makeCTag(vv))  # create component x by merging strongly connected vertices vv\n",
    "    x.insVV(vv)\n",
    "    c.insV(x)  # insert component x into SCC c\n",
    "  # create edges of SCC c\n",
    "  cc: List[Comp] = c.getVV()  # components of SCC c\n",
    "  for x in cc:  # for each component x in SCC c\n",
    "    aa: VSet = {}  # adjacent vertices of component x in DFS g\n",
    "    vv = x.getVV()  # constituent vertices of component x\n",
    "    for u in vv:  # for each constituent vertex u of component x\n",
    "      for v in [a for a in g.adj(u) if a not in vv]: aa[v.tag] = v  # for each (u, v) leaving component x\n",
    "    for a in aa.values():  # for each adjacent vertex a of component x\n",
    "      for y in [b for b in cc if b != x]:  # for every other component y in SCC c\n",
    "        if a in y.getVV():  # component y is adjacent to component x\n",
    "          c.insE(Edge(x, y))  # insert edge (x, y) into SCC c\n",
    "  return c"
   ]
  },
  {
   "cell_type": "markdown",
   "id": "42a0af1b-fab8-410b-abce-e837f740fc92",
   "metadata": {},
   "source": [
    "# Conclusion\n",
    "\n",
    "In this notebook, we implemented the graph data structure, the BFS and DFS elementary graph algorithms, and the two graph applications described in CLRS Chapter 20. Other more advanced graph algorithms use BFS and DFS. Tests for these elementary graph algorithms and their applications are in [`graphtest.ipynb`](./graphtest.ipynb)"
   ]
  }
 ],
 "metadata": {
  "kernelspec": {
   "display_name": "Python 3 (ipykernel)",
   "language": "python",
   "name": "python3"
  },
  "language_info": {
   "codemirror_mode": {
    "name": "ipython",
    "version": 3
   },
   "file_extension": ".py",
   "mimetype": "text/x-python",
   "name": "python",
   "nbconvert_exporter": "python",
   "pygments_lexer": "ipython3",
   "version": "3.8.17"
  }
 },
 "nbformat": 4,
 "nbformat_minor": 5
}
