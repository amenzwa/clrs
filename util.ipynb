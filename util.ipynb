{
 "cells": [
  {
   "cell_type": "markdown",
   "id": "5eeb7d98-0bf7-4d8d-a8b7-5933c020466b",
   "metadata": {
    "editable": true,
    "slideshow": {
     "slide_type": ""
    },
    "tags": []
   },
   "source": [
    "# Utilities\n",
    "\n",
    "Data structures, by definition, are generic containers. To support this genericity, we define a few type variables, here. In modern functional programming languages with a mathematical bent, like Haskell and Agda, Greek letters are used as type variables, by convention. We shall follow that convention."
   ]
  },
  {
   "cell_type": "code",
   "execution_count": 1,
   "id": "7295f253-824e-46ad-8a05-c3bddf5dc5b1",
   "metadata": {},
   "outputs": [],
   "source": [
    "from typing import TypeVar\n",
    "\n",
    "α = TypeVar(\"α\")"
   ]
  },
  {
   "cell_type": "markdown",
   "id": "e2b76e33-0407-4691-9bce-4964d4742c96",
   "metadata": {},
   "source": [
    "In algorithms, container data structures are often labelled. So, we define a base class for labelled containers."
   ]
  },
  {
   "cell_type": "code",
   "execution_count": 2,
   "id": "739a2941-c24d-4b20-b918-0008f8397714",
   "metadata": {},
   "outputs": [],
   "source": [
    "ID = str\n",
    "class IDed:\n",
    "    def __init__(self, id: ID): self.id = id"
   ]
  },
  {
   "cell_type": "markdown",
   "id": "dd1d1d6a-3432-474c-858e-791f4b09f49d",
   "metadata": {},
   "source": [
    "In functional programming, it is common to use the `Option` type for nullable variables, variables that may not contain any valid data. Let us define this type and the associated utility functions."
   ]
  },
  {
   "cell_type": "code",
   "execution_count": 3,
   "id": "f72186bc-4a53-4c70-a83b-74c127d12907",
   "metadata": {},
   "outputs": [],
   "source": [
    "from typing import Union\n",
    "\n",
    "Option = Union[None, α] # same as typing.Optional\n",
    "\n",
    "def isNone(o: Option[α]) -> bool: return o is None\n",
    "\n",
    "def isSome(o: Option[α]) -> bool: return not isNone(o)"
   ]
  },
  {
   "cell_type": "markdown",
   "id": "0e764aad-b0d2-475e-87dd-6489b13437c6",
   "metadata": {},
   "source": [
    "We also define the `Result` type. In functional programming, we do not throw an exception when a function encounters an error; instead, we return from this fallible function a `Result`, which contains an error or a result value. We will also define a couple of utility functions, as well."
   ]
  },
  {
   "cell_type": "code",
   "execution_count": 4,
   "id": "3dd8d051-fb8f-4634-a65d-be1d32304e8b",
   "metadata": {},
   "outputs": [],
   "source": [
    "Result = Union[Exception, α]\n",
    "\n",
    "def isError(r: Result[α]) -> bool: return type(r) is Exception\n",
    "\n",
    "def isResult(r: Result[α]) -> bool: return not isError(r)"
   ]
  },
  {
   "cell_type": "markdown",
   "id": "d747b2f5-815b-40a9-b086-a83bba15cf39",
   "metadata": {
    "editable": true,
    "slideshow": {
     "slide_type": ""
    },
    "tags": []
   },
   "source": [
    "Many graph algorithms use the $\\infty$ to indicate an invalid state. We use the maximum integer value for that purpose."
   ]
  },
  {
   "cell_type": "code",
   "execution_count": 5,
   "id": "3f270a69-e42a-44cb-bc49-29e58c102b7b",
   "metadata": {
    "editable": true,
    "slideshow": {
     "slide_type": ""
    },
    "tags": []
   },
   "outputs": [],
   "source": [
    "import sys\n",
    "Infinity = sys.maxsize"
   ]
  }
 ],
 "metadata": {
  "kernelspec": {
   "display_name": "Python 3 (ipykernel)",
   "language": "python",
   "name": "python3"
  },
  "language_info": {
   "codemirror_mode": {
    "name": "ipython",
    "version": 3
   },
   "file_extension": ".py",
   "mimetype": "text/x-python",
   "name": "python",
   "nbconvert_exporter": "python",
   "pygments_lexer": "ipython3",
   "version": "3.8.17"
  }
 },
 "nbformat": 4,
 "nbformat_minor": 5
}
