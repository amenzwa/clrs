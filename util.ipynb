{
 "cells": [
  {
   "cell_type": "markdown",
   "id": "5eeb7d98-0bf7-4d8d-a8b7-5933c020466b",
   "metadata": {
    "editable": true,
    "slideshow": {
     "slide_type": ""
    },
    "tags": []
   },
   "source": [
    "# Utilities\n",
    "\n",
    "Because types and functions defined in this notebook are imported by many other notebooks, we festidiously avoid side effects. So, we do not print, draw, or set global variables, here.\n",
    "\n",
    "## *type variables*\n",
    "\n",
    "Data structures, by definition, are generic containers. To support this genericity, we define type variables here, because Python does not allow type variables to be created on-the-fly in type definitions. In modern functional programming languages with a mathematical bent, like Haskell and Agda, Greek letters are used as type variables, by convention. We shall follow that convention, here."
   ]
  },
  {
   "cell_type": "code",
   "execution_count": 1,
   "id": "7295f253-824e-46ad-8a05-c3bddf5dc5b1",
   "metadata": {},
   "outputs": [],
   "source": [
    "from typing import TypeVar\n",
    "\n",
    "α = TypeVar(\"α\")"
   ]
  },
  {
   "cell_type": "markdown",
   "id": "e2b76e33-0407-4691-9bce-4964d4742c96",
   "metadata": {},
   "source": [
    "## *labels*\n",
    "\n",
    "In algorithms, container data structures are often labelled. So, we define the `Tagged` base class for labelled containers. We do not use `id` in Python, becuase all classes inherit this attribute from the priomodial system class and the runtime uses it to identify objects. This is one of those Python quirks."
   ]
  },
  {
   "cell_type": "code",
   "execution_count": 2,
   "id": "739a2941-c24d-4b20-b918-0008f8397714",
   "metadata": {},
   "outputs": [],
   "source": [
    "Tag = str\n",
    "class Tagged:\n",
    "    def __init__(self, tag: Tag):\n",
    "        self.tag = tag"
   ]
  },
  {
   "cell_type": "markdown",
   "id": "dd1d1d6a-3432-474c-858e-791f4b09f49d",
   "metadata": {},
   "source": [
    "## *nullability and fallibility*\n",
    "\n",
    "In functional programming, it is common to use the `Option` type for nullable variables, variables that may not contain any valid data. Let us define this type and the associated utility functions."
   ]
  },
  {
   "cell_type": "code",
   "execution_count": 3,
   "id": "f72186bc-4a53-4c70-a83b-74c127d12907",
   "metadata": {},
   "outputs": [],
   "source": [
    "from typing import Union\n",
    "\n",
    "Option = Union[None, α] # same as typing.Optional\n",
    "\n",
    "def isNone(o: Option[α]) -> bool: return o is None\n",
    "\n",
    "def isSome(o: Option[α]) -> bool: return not isNone(o)"
   ]
  },
  {
   "cell_type": "markdown",
   "id": "0e764aad-b0d2-475e-87dd-6489b13437c6",
   "metadata": {},
   "source": [
    "We also define the `Result` type. In functional programming, we do not throw an exception when a function encounters an error; instead, we return from this fallible function a `Result`, which contains an error or a result value. We will also define a couple of utility functions, as well."
   ]
  },
  {
   "cell_type": "code",
   "execution_count": 4,
   "id": "3dd8d051-fb8f-4634-a65d-be1d32304e8b",
   "metadata": {},
   "outputs": [],
   "source": [
    "Result = Union[Exception, α]\n",
    "\n",
    "def isError(r: Result[α]) -> bool: return type(r) is Exception\n",
    "\n",
    "def isResult(r: Result[α]) -> bool: return not isError(r)"
   ]
  },
  {
   "cell_type": "markdown",
   "id": "d747b2f5-815b-40a9-b086-a83bba15cf39",
   "metadata": {
    "editable": true,
    "slideshow": {
     "slide_type": ""
    },
    "tags": []
   },
   "source": [
    "## *infinity*\n",
    "\n",
    "Many graph algorithms use the $\\infty$ to indicate an invalid state. We use the maximum integer value for that purpose."
   ]
  },
  {
   "cell_type": "code",
   "execution_count": 5,
   "id": "3f270a69-e42a-44cb-bc49-29e58c102b7b",
   "metadata": {
    "editable": true,
    "slideshow": {
     "slide_type": ""
    },
    "tags": []
   },
   "outputs": [],
   "source": [
    "import sys\n",
    "Infinity = sys.maxsize"
   ]
  },
  {
   "cell_type": "markdown",
   "id": "b974f526-defd-4c5f-8536-e5d388987954",
   "metadata": {},
   "source": [
    "## *disjoint sets*\n",
    "\n",
    "Disjoint sets are a collection of dynamic sets with no common elements between them. Hence, the disjoint sets and their elements are related by a a bijection: given a disjoint set, we can find a unique element in the entire collection; given an element, we can find the unique disjoint set in the collection that contains it. See Chapter 19 *Data Structures for Disjoint Sets* p.520."
   ]
  },
  {
   "cell_type": "code",
   "execution_count": 6,
   "id": "8e8fff8d-d1a9-4cae-add4-39c48d557c28",
   "metadata": {},
   "outputs": [],
   "source": [
    "from typing import Callable, Dict, List\n",
    "\n",
    "class SSet: # sorted set\n",
    "    def __init__(self, i: List[α], attr: Callable[[float], float]):\n",
    "        super().__init__()\n",
    "        self.ii = set(i) # guaranteed to contain at least one item\n",
    "        self.attr = attr # sorting attribute selector\n",
    "\n",
    "    def ins(self, i: α) -> None: self.ii = set(sorted([i, *self.ii], key=self.attr))\n",
    "    def getII(self) -> List[α]: return list(self.ii)\n",
    "    def getRep(self) -> str: return str(self.getII()[0]) # return the representative item string\n",
    "\n",
    "    def contains(self, i: α) -> bool: return i in self.ii\n",
    "\n",
    "class DSet: # disjoint sets (a collection of sorted sets)\n",
    "    def __init__(self, attr: Callable[[float], float]):\n",
    "        super().__init__()\n",
    "        self.ss: Dict[str, SSet] = {} # {str(rep): SSet}\n",
    "        self.attr = attr\n",
    "\n",
    "    def getSS(self) -> List[SSet]: return list(self.ss.values())\n",
    "\n",
    "    def makeSet(self, x: α) -> None:\n",
    "        s = self.findSet(x)\n",
    "        if isNone(s): # x is not in the collection\n",
    "            s = SSet([x], attr=self.attr)\n",
    "            self.ss[s.getRep()] = s\n",
    "\n",
    "    def findSet(self, x: α) -> Option[SSet]:\n",
    "        ss = [s for s in self.getSS() if s.contains(x)]\n",
    "        return ss[0] if ss != [] else None\n",
    "\n",
    "    def union(self, x: α, y: α) -> SSet:\n",
    "        if x == y: return self.findSet(x)\n",
    "        sx = self.findSet(x)\n",
    "        sy = self.findSet(y)\n",
    "        if sx == sy: return sx\n",
    "        ii = []\n",
    "        if isSome(sx):\n",
    "            self.ss.pop(sx.getRep())\n",
    "            ii += sx.getII()\n",
    "        if isSome(sy):\n",
    "            self.ss.pop(sy.getRep())\n",
    "            ii += sy.getII()\n",
    "        su = SSet(ii, attr=self.attr)\n",
    "        self.ss[su.getRep()] = su"
   ]
  }
 ],
 "metadata": {
  "kernelspec": {
   "display_name": "Python 3 (ipykernel)",
   "language": "python",
   "name": "python3"
  },
  "language_info": {
   "codemirror_mode": {
    "name": "ipython",
    "version": 3
   },
   "file_extension": ".py",
   "mimetype": "text/x-python",
   "name": "python",
   "nbconvert_exporter": "python",
   "pygments_lexer": "ipython3",
   "version": "3.8.17"
  }
 },
 "nbformat": 4,
 "nbformat_minor": 5
}
