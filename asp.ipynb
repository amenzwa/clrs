{
 "cells": [
  {
   "cell_type": "code",
   "execution_count": 7,
   "id": "3eb84305-5291-4262-91c3-dd28a487a3a1",
   "metadata": {},
   "outputs": [
    {
     "name": "stdout",
     "output_type": "stream",
     "text": [
      "The autoreload extension is already loaded. To reload it, use:\n",
      "  %reload_ext autoreload\n"
     ]
    }
   ],
   "source": [
    "# automatically reload dependant notebooks\n",
    "%load_ext autoreload\n",
    "%autoreload 2\n",
    "import import_ipynb"
   ]
  },
  {
   "cell_type": "markdown",
   "id": "6659bfc9-28fb-4d97-a5b0-849fe1c551b0",
   "metadata": {},
   "source": [
    "# All-Pairs Shortest Paths\n",
    "\n",
    "Given a directed, weighted graph $G = (V, E)$, All-Pairs Shortest Path (ASP) algorithm discovers the shortest paths between each pair of vertices. See CLRS 4ed Chapter 23 *All-Pairs Shortest Paths* p.646. ASP can be used to tabulate the cheapest airfares between pairs of city. The ticket price from city $C$ to $D$ is not necessarily the same as that from $D$ to $C$, due to day and time of travel, airlines in operation, flight availability, stopovers, etc.\n",
    "\n",
    "## ASP graph with adjacency matrix of edge weights\n",
    "\n",
    "Unlike those algorithms in the earlier chapters, ASP algorithms use dense graphs represented with adjacency matrices. So, we derive `ASPGraph` from `MtxGraph`. See Equation 23.1 p.647 for the description of adjacency matrix representation. Note that we use `WgtEdge` defined in the [mst.ipynb](./mst.ipynb) notebook."
   ]
  },
  {
   "cell_type": "code",
   "execution_count": 8,
   "id": "07a6c1b0-4382-435f-93d8-108691a51c07",
   "metadata": {},
   "outputs": [],
   "source": [
    "from graph import *\n",
    "from mst import *\n",
    "from asp import *\n",
    "from util import *\n",
    "\n",
    "class ASPGraph(MtxGraph):\n",
    "  def __init__(self, tag: Tag):\n",
    "    super().__init__(tag)\n",
    "\n",
    "  def makeVEw(self, vt: [Tag], et: [Tag], ew: {Tag, float}) -> None:\n",
    "    self.makeV(vt)\n",
    "    self.makeEw(et, ew)\n",
    "  def makeEw(self, et: [Tag], ew: {Tag, float}) -> None:\n",
    "    for etag in et:\n",
    "      [utag, vtag] = parseETag(etag)\n",
    "      e = WgtEdge(self.getV(utag), self.getV(vtag), ew[etag])\n",
    "      self.ee[e.tag] = e\n",
    "      [i, j] = indicesOfETag(etag)\n",
    "      self.ww[i][j] = ew[etag]"
   ]
  },
  {
   "cell_type": "markdown",
   "id": "0818d88c-ea4b-4cc0-8fef-d3cacc57c42e",
   "metadata": {},
   "source": [
    "## Floyd_Warshall ASP algorithm\n",
    "\n",
    "Floyd_Warshall ASP algorithm employs dynamic programming to find the optimal (shortest) paths between every pair of vertices. See 23.2 The Floyd-Warshall algorithm p.655. The runtime of the Floyd-Warshall algorithm is $\\Theta(V^3)$. See p.657.\n",
    "\n",
    "[Dynamic programming](https://en.wikipedia.org/wiki/Dynamic_programming) is a tabulation-based optimisation technique. [Greedy algorithms](https://en.wikipedia.org/wiki/Greedy_algorithm), like Kruskal's MST, Prim's MST, and Dijkstra's SSP, select at each optimisation step a locally optimal choice. But dynamic programming algorithms select at each optimisation step the globally optimal choice. See Chapter 14 Dynamic Programming p.362.\n",
    "\n",
    "Do not confuse dynamic programming with [dynamic programming languages](https://en.wikipedia.org/wiki/Dynamic_programming_language)—like Python."
   ]
  },
  {
   "cell_type": "code",
   "execution_count": 9,
   "id": "285922d6-70df-4c77-81ca-1ed1cfcc9647",
   "metadata": {},
   "outputs": [],
   "source": [
    "def aspFloydWarshall(g: ASPGraph) -> [WMtx, WMtx]:\n",
    "  n = g.numVV()\n",
    "  r = range(0, n)\n",
    "  np1 = n + 1\n",
    "  # initialize\n",
    "  g.dd = [[]] * np1\n",
    "  g.dd[0] = g.ww\n",
    "  g.pp = [[]] * np1\n",
    "  g.pp[0] = [[]] * n\n",
    "  for i in r:\n",
    "    g.pp[0][i] = [-Infinity] * n  # use -Infinity instead of NIL as used in CLRS; see p.659\n",
    "    for j in r:\n",
    "      g.pp[0][i][j] = -Infinity if i == j or g.ww[i][j] == Infinity else i\n",
    "  # discover ASP in graph g\n",
    "  for k in range(1, np1):\n",
    "    g.dd[k] = [[]] * n\n",
    "    g.pp[k] = [[]] * n\n",
    "    for i in r:\n",
    "      g.dd[k][i] = [Infinity] * n\n",
    "      g.pp[k][i] = [-Infinity] * n\n",
    "      for j in r:\n",
    "        km1 = k - 1\n",
    "        g.dd[k][i][j] = min(g.dd[km1][i][j], g.dd[km1][i][km1] + g.dd[km1][km1][j])\n",
    "        g.pp[k][i][j] = g.pp[km1][km1][j] if g.dd[km1][i][j] > g.dd[km1][i][km1] + g.dd[km1][km1][j] else g.pp[km1][i][j]  # see Equation 23.8 p.659\n",
    "  return g.dd[n], g.pp[n]"
   ]
  },
  {
   "cell_type": "markdown",
   "id": "ce1307e6-acce-4b34-8967-32a71a606139",
   "metadata": {},
   "source": [
    "# Conclusion\n",
    "\n",
    "In this notebook, we implemented Floyd-Warshall ASP algorithm for dense graphs, transitive closure of a directed graph, and Johnson's ASP algorithm for sparse graphs. Tests for these ASP algorithms are implemented in [`asptest.ipynb`](./asptest.ipynb)."
   ]
  }
 ],
 "metadata": {
  "kernelspec": {
   "display_name": "Python 3 (ipykernel)",
   "language": "python",
   "name": "python3"
  },
  "language_info": {
   "codemirror_mode": {
    "name": "ipython",
    "version": 3
   },
   "file_extension": ".py",
   "mimetype": "text/x-python",
   "name": "python",
   "nbconvert_exporter": "python",
   "pygments_lexer": "ipython3",
   "version": "3.8.17"
  }
 },
 "nbformat": 4,
 "nbformat_minor": 5
}
