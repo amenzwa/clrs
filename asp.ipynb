{
 "cells": [
  {
   "cell_type": "code",
   "execution_count": 1,
   "id": "3eb84305-5291-4262-91c3-dd28a487a3a1",
   "metadata": {},
   "outputs": [],
   "source": [
    "# automatically reload dependant notebooks\n",
    "%load_ext autoreload\n",
    "%autoreload 2\n",
    "import import_ipynb"
   ]
  },
  {
   "cell_type": "markdown",
   "id": "6659bfc9-28fb-4d97-a5b0-849fe1c551b0",
   "metadata": {},
   "source": [
    "# All-Pairs Shortest Paths\n",
    "\n",
    "Given a directed, weighted graph $G = (V, E)$, All-Pairs Shortest Path (ASP) algorithm discovers the shortest paths between each pair of vertices. See CLRS 4ed Chapter 23 *All-Pairs Shortest Paths* p.646. ASP can be used to tabulate the cheapest airfares between pairs of city. The ticket price from city $C$ to $D$ is not necessarily the same as that from $D$ to $C$, due to day and time of travel, airlines in operation, flight availability, stopovers, etc.\n",
    "\n",
    "## ASP graph with adjacency matrix of edge weights\n",
    "\n",
    "Unlike those algorithms in the earlier chapters, ASP algorithms use dense graphs represented with adjacency matrices. So, we derive `ASPGraph` from `MtxGraph`. See Equation 23.1 p.647 for the description of adjacency matrix representation. Note that we use `WgtEdge` defined in the [mst.ipynb](./mst.ipynb) notebook."
   ]
  },
  {
   "cell_type": "code",
   "execution_count": 2,
   "id": "07a6c1b0-4382-435f-93d8-108691a51c07",
   "metadata": {},
   "outputs": [
    {
     "name": "stdout",
     "output_type": "stream",
     "text": [
      "importing Jupyter notebook from graph.ipynb\n",
      "The autoreload extension is already loaded. To reload it, use:\n",
      "  %reload_ext autoreload\n",
      "importing Jupyter notebook from util.ipynb\n",
      "importing Jupyter notebook from mst.ipynb\n",
      "The autoreload extension is already loaded. To reload it, use:\n",
      "  %reload_ext autoreload\n",
      "importing Jupyter notebook from asp.ipynb\n",
      "The autoreload extension is already loaded. To reload it, use:\n",
      "  %reload_ext autoreload\n",
      "importing Jupyter notebook from ssp.ipynb\n",
      "The autoreload extension is already loaded. To reload it, use:\n",
      "  %reload_ext autoreload\n",
      "importing Jupyter notebook from ega.ipynb\n",
      "The autoreload extension is already loaded. To reload it, use:\n",
      "  %reload_ext autoreload\n"
     ]
    }
   ],
   "source": [
    "from graph import *\n",
    "from mst import *\n",
    "from asp import *\n",
    "from util import *\n",
    "\n",
    "class ASPGraph(MtxGraph):\n",
    "  def __init__(self, tag: Tag):\n",
    "    super().__init__(tag)\n",
    "\n",
    "  def makeVEw(self, vt: [Tag], et: [Tag], ew: {Tag, float}) -> None:\n",
    "    self.makeV(vt)\n",
    "    self.makeEw(et, ew)\n",
    "  def makeEw(self, et: [Tag], ew: {Tag, float}) -> None:\n",
    "    for etag in et:\n",
    "      [utag, vtag] = parseETag(etag)\n",
    "      e = WgtEdge(self.getV(utag), self.getV(vtag), float(ew[etag]))\n",
    "      self.ee[e.tag] = e\n",
    "      [i, j] = indicesOfETag(etag)\n",
    "      self.ww[i][j] = ew[etag]"
   ]
  },
  {
   "cell_type": "markdown",
   "id": "0818d88c-ea4b-4cc0-8fef-d3cacc57c42e",
   "metadata": {},
   "source": [
    "## Floyd-Warshall ASP algorithm\n",
    "\n",
    "Floyd-Warshall ASP algorithm employs dynamic programming to find the optimal (shortest) paths between every pair of vertices. See 23.2 The Floyd-Warshall algorithm p.655. The runtime of the Floyd-Warshall algorithm is $\\Theta(V^3)$. See p.657.\n",
    "\n",
    "[Dynamic programming](https://en.wikipedia.org/wiki/Dynamic_programming) is a tabulation-based optimisation technique. [Greedy algorithms](https://en.wikipedia.org/wiki/Greedy_algorithm), like Kruskal's MST, Prim's MST, and Dijkstra's SSP, select at each optimisation step a locally optimal choice. But dynamic programming algorithms select at each optimisation step the globally optimal choice. See Chapter 14 Dynamic Programming p.362.\n",
    "\n",
    "Do not confuse dynamic programming with [dynamic programming languages](https://en.wikipedia.org/wiki/Dynamic_programming_language)—like Python."
   ]
  },
  {
   "cell_type": "code",
   "execution_count": 3,
   "id": "285922d6-70df-4c77-81ca-1ed1cfcc9647",
   "metadata": {},
   "outputs": [],
   "source": [
    "def aspFloydWarshall(g: ASPGraph) -> [WMtx, WMtx]:\n",
    "  n = g.numVV()\n",
    "  r = range(0, n)\n",
    "  np1 = n + 1\n",
    "  # initialize\n",
    "  dd = [[]] * np1\n",
    "  dd[0] = g.ww\n",
    "  pp = [[]] * np1\n",
    "  pp[0] = [[]] * n\n",
    "  for i in r:\n",
    "    pp[0][i] = [-Infinity] * n  # use -Infinity instead of NIL as used in CLRS; see p.659\n",
    "    for j in r: pp[0][i][j] = -Infinity if i == j or g.ww[i][j] == Infinity else i\n",
    "  # discover ASP in graph g\n",
    "  for k in range(1, np1):\n",
    "    km1 = k - 1\n",
    "    dd[k] = [[]] * n\n",
    "    pp[k] = [[]] * n\n",
    "    for i in r:\n",
    "      dd[k][i] = [Infinity] * n\n",
    "      pp[k][i] = [-Infinity] * n\n",
    "      for j in r:\n",
    "        dd[k][i][j] = min(dd[km1][i][j], dd[km1][i][km1] + dd[km1][km1][j])\n",
    "        pp[k][i][j] = pp[km1][km1][j] if dd[km1][i][j] > dd[km1][i][km1] + dd[km1][km1][j] else pp[km1][i][j]  # see Equation 23.8 p.659\n",
    "  return dd[n], pp[n]"
   ]
  },
  {
   "cell_type": "markdown",
   "id": "2b315208-7a04-4aac-9a45-b77ae9fa3370",
   "metadata": {},
   "source": [
    "## transitive closure of a directed graph\n",
    "\n",
    "The transitive closure of a directed graph $G = (V, E)$ is $G^* = (V, E^*)$, where $E^* = \\{(i, j)\\, |\\, i \\leadsto j \\in G\\}$. See p.659. The transitive closure algorithm on p.660 uses the `tt` boolean matrix, so we define `BMtx`, below."
   ]
  },
  {
   "cell_type": "code",
   "execution_count": 4,
   "id": "81f2adbe-d92c-4f4d-8c49-3ec13276a568",
   "metadata": {},
   "outputs": [],
   "source": [
    "BMtx = [[bool]]\n",
    "\n",
    "def tclosure(g: ASPGraph) -> BMtx:\n",
    "  n = g.numVV()\n",
    "  r = range(0, n)\n",
    "  np1 = n + 1\n",
    "  # intialize\n",
    "  tt: BMtx = [[]] * np1\n",
    "  tt[0] = [[]] * n\n",
    "  for i in r:\n",
    "    tt[0][i] = [[]] * n\n",
    "    for j in r: tt[0][i][j] = i == j or g.hasE(etagOfIndices(i, j))\n",
    "  for k in range(1, np1):\n",
    "    km1 = k - 1\n",
    "    tt[k] = [[]] * n\n",
    "    for i in r:\n",
    "      tt[k][i] = [False] * n\n",
    "      for j in r: tt[k][i][j] = tt[km1][i][j] or (tt[km1][i][km1] and tt[km1][km1][j])\n",
    "  return tt[n]"
   ]
  },
  {
   "cell_type": "markdown",
   "id": "11eb2ee6-5e2c-45d2-bc1a-30326a354931",
   "metadata": {},
   "source": [
    "## Johnson's ASP algorithm\n",
    "\n",
    "Johnson's ASP algorithm is appreciably faster than Floyd-Warshall. Instead of using triple-nested loops like Floyd-Warshall, Johnson's algorithm applies Dijkstra's SSP algorithm, once for each vertex as the source. But since negative edge weights are allowed, Dijkstra's algorithm cannot be applied directly. So, this algorithm uses a clever trick, called *reweighting*, to make all weights positive, without altering the shortest path structures of the graph. See 23.3 *Johnson’s algorithm for sparse graphs* p.662. The runtime of Johnson's algorithm is $O(V^2\\, lg\\, V + VE)$. See p.662."
   ]
  },
  {
   "cell_type": "code",
   "execution_count": 5,
   "id": "af5a08df-7bb2-404c-840d-052b9cbf740e",
   "metadata": {},
   "outputs": [],
   "source": [
    "from copy import deepcopy\n",
    "from ssp import *\n",
    "\n",
    "JohnsonGraph = DijkstraGraph  # uses PriVert and WgtEdge\n",
    "\n",
    "def aspJohnson(g: JohnsonGraph) -> [WMtx, [LstTree]]:\n",
    "  # initialize\n",
    "  h: JohnsonGraph = JohnsonGraph(f\"{g.tag}+\")  # graph h is graph g augmented with source vertex s and its out edges\n",
    "  h.dupVV(g.vv)\n",
    "  h.dupEE(g.ee)\n",
    "  s = Vert(\"0\")\n",
    "  h.insV(s)\n",
    "  for u in g.getVV():\n",
    "    e = WgtEdge(s, u)\n",
    "    e.wgt = 0.0\n",
    "    h.insE(e)\n",
    "  # check for negative-weight cycles using Bellman-Ford\n",
    "  p = sspBellmanFord(h, s)\n",
    "  if isNone(p): raise Exception(\"input graph contains a negative-weight cycle\")\n",
    "  # reweight graph h to eliminate negative weights on edges\n",
    "  for e in h.getEE():  # for each edge in graph h\n",
    "    u = h.getV(e.u.tag)\n",
    "    v = h.getV(e.v.tag)\n",
    "    # w^(u, v) = w(u, v) + h(u) - h(v), where h(u) = δ(s, u) and h(v) = δ(s, v); see Equation 23.10 p.663 and p.664\n",
    "    e.wgt += u.dis - v.dis\n",
    "  # discover ASP in graph g using Dijkstra, once for each vertex as the source\n",
    "  n = g.numVV()\n",
    "  r = range(0, n)\n",
    "  dd = [[]] * n  # shortest distances\n",
    "  tt = [LstTree] * n  # Dijkstra SSPs\n",
    "  for i in r: dd[i] = [float] * n\n",
    "  g.tag = f\"{g.tag}ω\"\n",
    "  g.dupVV(h.vv)  # copy u.dis = δ(s, u)\n",
    "  g.delV(s)\n",
    "  for u in g.getVV():  # for each vertex in graph g\n",
    "    i = int(u.tag) - 1\n",
    "    # discover SSP in graph g from vertex u\n",
    "    p = sspDijkstra(g, u)  # compute δ^(u, v) for all vertices v of graph g\n",
    "    tt[i] = deepcopy(p)\n",
    "    for v in g.getVV():\n",
    "      j = int(v.tag) - 1\n",
    "      dd[i][j] = u.pri + v.dis - u.dis\n",
    "  return dd, tt"
   ]
  },
  {
   "cell_type": "markdown",
   "id": "ce1307e6-acce-4b34-8967-32a71a606139",
   "metadata": {},
   "source": [
    "# Conclusion\n",
    "\n",
    "In this notebook, we implemented Floyd-Warshall ASP algorithm for dense graphs, transitive closure of a directed graph, and Johnson's ASP algorithm for sparse graphs. Tests for these ASP algorithms are implemented in [`asptest.ipynb`](./asptest.ipynb)."
   ]
  }
 ],
 "metadata": {
  "kernelspec": {
   "display_name": "Python 3 (ipykernel)",
   "language": "python",
   "name": "python3"
  },
  "language_info": {
   "codemirror_mode": {
    "name": "ipython",
    "version": 3
   },
   "file_extension": ".py",
   "mimetype": "text/x-python",
   "name": "python",
   "nbconvert_exporter": "python",
   "pygments_lexer": "ipython3",
   "version": "3.8.17"
  }
 },
 "nbformat": 4,
 "nbformat_minor": 5
}
