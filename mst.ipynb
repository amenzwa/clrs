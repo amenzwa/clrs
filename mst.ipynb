{
 "cells": [
  {
   "cell_type": "code",
   "execution_count": 1,
   "id": "3eb84305-5291-4262-91c3-dd28a487a3a1",
   "metadata": {},
   "outputs": [],
   "source": [
    "# automatically reload dependant notebooks\n",
    "%load_ext autoreload\n",
    "%autoreload 2\n",
    "import import_ipynb"
   ]
  },
  {
   "cell_type": "markdown",
   "id": "6659bfc9-28fb-4d97-a5b0-849fe1c551b0",
   "metadata": {},
   "source": [
    "# Minimum Spanning Trees\n",
    "\n",
    "Minimum spanning tree (MST) algorithm is one of the fundamental graph algorithms. Given a connected, undirected graph $G = (V, E)$, MST discovers a spanning tree $T = (V, E)$ with the minimum total weight $w(E) = \\sum_{(u, v) \\in E}{w(u, v)}$, where $w : E \\rightarrow \\mathbb{R}$ is the weight function that associates each edge with a weight value. See CLRS 4ed Chapter 21 *Minimum Spanning Trees* p.607.\n",
    "\n",
    "CLRS begins by presenting a generic MST algorithm on p.587. This algorithm, as the name suggests, is just a conceptual description. The core idea is to maintain a subset $A$ of edges containing safe edges. A *safe edge* is one that can be added to $A$ without violating the condition that $A \\subseteq T$, where $T$ is the MST of the graph. The algorithm incrementally adds safe edges to $A$, one at a time, until $A = T$.\n",
    "\n",
    "There are two actual implementations for the generic algorithm: Kruskal's algorithm and Prim's algorithm, named after the inventors. Both are greedy algorithms in a sense that at each step, they choose the safe edge with the minimum weight. We will use the structure of the generic MST algorithm and customise it in accordance with Kruskal's and Prim's specifications to obtain the actual implementations.\n",
    "\n",
    "By the way, many algorithms in CS are named after the inventors. In academia, naming your invention after yourself is poor form, but others naming it after you is high praise. In this instance, the CS community had named these two important algorithms after their inventors so as to honour them.\n",
    "\n",
    "## MST graph with weighted edges\n",
    "\n",
    "MST algorithms use weighted edges. So, we define the weighted edge `WgtEdge` and `MSTGraph` which uses this new edge."
   ]
  },
  {
   "cell_type": "code",
   "execution_count": 2,
   "id": "07a6c1b0-4382-435f-93d8-108691a51c07",
   "metadata": {},
   "outputs": [
    {
     "name": "stdout",
     "output_type": "stream",
     "text": [
      "importing Jupyter notebook from graph.ipynb\n",
      "The autoreload extension is already loaded. To reload it, use:\n",
      "  %reload_ext autoreload\n",
      "importing Jupyter notebook from util.ipynb\n"
     ]
    }
   ],
   "source": [
    "from graph import *\n",
    "from util import *\n",
    "\n",
    "class WgtEdge(Edge):\n",
    "    def __init__(self, u: Vertex, v: Vertex, wgt: float=Infinity):\n",
    "        super().__init__(u, v)\n",
    "        self.wgt: float = wgt\n",
    "\n",
    "    def __str__(self) -> str: return f\"{self.tag}: {self.showWeight()}\"\n",
    "    def show(self) -> str: return f\"{self.showWeight()}\"\n",
    "    def showWeight(self) -> str: return str(self.wgt) if self.wgt != Infinity else \"\"\n",
    "\n",
    "class MSTGraph(Graph):\n",
    "    def __init__(self, tag: Tag):\n",
    "        super().__init__(tag)\n",
    "    \n",
    "    def makeVEw(self, vs: List[Tag], es: Dict[Tag, List[Tag]], ew: Dict[Tag, float]) -> None:\n",
    "        self.makeV(vs)\n",
    "        self.makeEw(es, ew)\n",
    "    def makeEw(self, es: Dict[Tag, List[Tag]], ew: Dict[Tag, float]) -> None:\n",
    "        for utag, vids in es.items():\n",
    "            for vtag in vids:\n",
    "                u = self.getV(utag)\n",
    "                v = self.getV(vtag)\n",
    "                e = WgtEdge(u, v, ew[makeEtag(u, v)])\n",
    "                self.ee[e.tag] = e"
   ]
  },
  {
   "cell_type": "markdown",
   "id": "a1163827-3ab7-45ec-a2f2-81e72fb902aa",
   "metadata": {},
   "source": [
    "## Kruskal's algorithm\n",
    "\n",
    "Kruskal's algorithm starts out with little forests and connects them with safe edges into a single tree that spans the graph. Initially, each vertex is an individual forest. These forests are stored in the `ff` disjoint set, which is defined in the `util` notebook. `Graph` and `Tree`, of course, came from the `graph` notebook. And because we assign weights as edge attributes during graph construction, we do not need to pass the $w : E \\rightarrow \\mathbb{R}$ weight function into `mstKruskal()`."
   ]
  },
  {
   "cell_type": "code",
   "execution_count": 3,
   "id": "285922d6-70df-4c77-81ca-1ed1cfcc9647",
   "metadata": {},
   "outputs": [],
   "source": [
    "def mstKruskal(g: MSTGraph) -> Tree:\n",
    "    # initialize\n",
    "    a: ESet = {} # edge set of MST\n",
    "    ds = DSet(attr=lambda e: e.wgt) # forests disjoint set\n",
    "    for u in g.getVV(): ds.makeSet(u)\n",
    "    # discover MST in graph g\n",
    "    for e in sorted(g.getEE(), key=lambda e: e.wgt): # edges ascending sorted by their weights\n",
    "        if ds.findSet(e.u) != ds.findSet(e.v):\n",
    "            a[e.tag] = e\n",
    "            ds.union(e.u, e.v)\n",
    "    # extract MST t from graph g using tree edge set a\n",
    "    t = Tree(f\"{g.tag}†\")\n",
    "    for e in a.values():\n",
    "        t.insE(e)\n",
    "        t.insV(e.u)\n",
    "        t.insV(e.v)\n",
    "    return t"
   ]
  },
  {
   "cell_type": "markdown",
   "id": "f6a849c0-559b-471d-a2c3-0e4313c29e9a",
   "metadata": {},
   "source": [
    "## Prim's algorithm\n",
    "\n",
    "Prim's algorithm starts out with one edge and collects more safe edges until a spanning tree forms. Again, since we use the `wgt` attribute of `Edge`, we need not supply the $w : E \\rightarrow \\mathbb{R}$ weight function into `mstPrim()`. The argument `r` is the root vertex chosen arbitrarily from the vertex set of the connected, undirected graph `g`. Prim's algorithm employs a min-priority queue to keep track of vertices that are not yet part of the MST. For that, we use Python's built-in `PriorityQueue`. See §6.5 *Priority queues* p.172. And CLRS uses the priority attribute called $v.key$ on each vertex, which is the minimum weight of any edge connecting $v$ to a vertex in the growing tree $A$. So, we define the prioritised vertex `PriVertex` and `PrimMSTGraph` which uses this new vertex type."
   ]
  },
  {
   "cell_type": "code",
   "execution_count": 4,
   "id": "7eb74e0a-b38f-4f72-ab83-88f205d8ef2d",
   "metadata": {},
   "outputs": [],
   "source": [
    "from queue import PriorityQueue\n",
    "from util import *\n",
    "\n",
    "class PriVertex(Vertex):\n",
    "    def __init__(self, tag: Tag):\n",
    "        super().__init__(tag)\n",
    "        self.pri: float = Infinity\n",
    "\n",
    "    def __str__(self) -> str: return f\"{super().__str__()} {self.priority()}\"\n",
    "    def priority(self) -> str: return f\"{self.pri if self.pri != Infinity else ''}\"\n",
    "\n",
    "    def __lt__(self, v: \"PriVertex\") -> bool: return self.pri < v.pri # needed by PriorityQueue\n",
    "\n",
    "class PrimMSTGraph(MSTGraph):\n",
    "    def __init__(self, tag: Tag):\n",
    "        super().__init__(tag)\n",
    "    \n",
    "    def makeV(self, vs: List[Tag]) -> None:\n",
    "        for vtag in vs: self.vv[vtag] = PriVertex(vtag)\n",
    "\n",
    "def mstPrim(g: MSTGraph, r: PriVertex) -> Tree:\n",
    "    # initialize\n",
    "    for u in g.getVV():\n",
    "        u.par = None\n",
    "        u.pri = Infinity\n",
    "    r.pri = 0\n",
    "    q = PriorityQueue()\n",
    "    for u in g.getVV(): q.put(u)\n",
    "    # discover MST in graph g\n",
    "    while not q.empty():\n",
    "        u = q.get()\n",
    "        for v in g.adj(u):\n",
    "            e = g.getE(makeEtag(u, v))\n",
    "            if v in q.queue and e.wgt < v.pri:\n",
    "                v.par = u\n",
    "                v.pri = e.wgt\n",
    "                q.queue.sort() # rearrange q to account for decreased v.pri\n",
    "    # extract MST t from graph g using tree vertices vv\n",
    "    t = Tree(f\"{g.tag}†\")\n",
    "    for v in g.getVV():\n",
    "        t.insV(v)\n",
    "        if not v.isRoot(): t.insE(g.getE(makeEtag(v, v.par))) # see p.596\n",
    "    return t"
   ]
  },
  {
   "cell_type": "markdown",
   "id": "ce1307e6-acce-4b34-8967-32a71a606139",
   "metadata": {},
   "source": [
    "# Conclusion\n",
    "\n",
    "In this notebook, we implemented Kruskal's and Prim's MST algorithms. The MSTs produced by this code may look different. But upon close inspection, you will note that our trees are equivalent to the ones shown in Figure 21.4 p.593 (Kruskal's) and Figure 21.5 p.595 (Prim's): the total edge weights between our trees and those in CLRS are identical. Such is the nature of graph algorithms; different, but correct, results may be obtained by different implementations of the same algorithm. Many factors can affect the appearance of the results: the choice of the first vertex to process, the order of vertex processing, the choice of the first edge to process, the order of edge processing, implementation details of the data structures like FIFO queues and priority queues, whether it is raining outside, and so on."
   ]
  }
 ],
 "metadata": {
  "kernelspec": {
   "display_name": "Python 3 (ipykernel)",
   "language": "python",
   "name": "python3"
  },
  "language_info": {
   "codemirror_mode": {
    "name": "ipython",
    "version": 3
   },
   "file_extension": ".py",
   "mimetype": "text/x-python",
   "name": "python",
   "nbconvert_exporter": "python",
   "pygments_lexer": "ipython3",
   "version": "3.8.17"
  }
 },
 "nbformat": 4,
 "nbformat_minor": 5
}
