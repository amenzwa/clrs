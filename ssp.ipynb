{
 "cells": [
  {
   "cell_type": "code",
   "execution_count": 5,
   "id": "3eb84305-5291-4262-91c3-dd28a487a3a1",
   "metadata": {},
   "outputs": [
    {
     "name": "stdout",
     "output_type": "stream",
     "text": [
      "The autoreload extension is already loaded. To reload it, use:\n",
      "  %reload_ext autoreload\n"
     ]
    }
   ],
   "source": [
    "# automatically reload dependant notebooks\n",
    "%load_ext autoreload\n",
    "%autoreload 2\n",
    "import import_ipynb"
   ]
  },
  {
   "cell_type": "markdown",
   "id": "6659bfc9-28fb-4d97-a5b0-849fe1c551b0",
   "metadata": {},
   "source": [
    "# Single-Source Shortest Paths\n",
    "\n",
    "Single-Source Shortest Path (SSP) algorithm is central to GPS navigation. Given a directed, weighted graph $G = (V, E)$, SSP discovers the shortest path $\\delta(u, v)$ with the minimum total weight if the path $u \\leadsto v$ exists, or $\\infty$ if the path does not exist. See CLRS 4ed Chapter 22 *Single-Source Shortest Paths* p.604. Since the graphs used in this notebook employ weighted edges, we shall define `SSPGraph` to be `MSTGraph` as defined in [`mst.ipynb`](./mst.ipynb)."
   ]
  },
  {
   "cell_type": "code",
   "execution_count": 6,
   "id": "07a6c1b0-4382-435f-93d8-108691a51c07",
   "metadata": {},
   "outputs": [],
   "source": [
    "from graph import *\n",
    "from mst import *\n",
    "from util import *\n",
    "\n",
    "SSPGraph = MSTGraph"
   ]
  },
  {
   "cell_type": "markdown",
   "id": "a1163827-3ab7-45ec-a2f2-81e72fb902aa",
   "metadata": {},
   "source": [
    "## Bellman-Ford SSP algorithm\n",
    "\n",
    "Bellman-Ford SSP algorithm relaxes each edge iteratively until all simple paths from the source vertex $s$ to every other vertex becomes the shortest path $\\delta(u, v)$. The algorithm works with negative weights. It detects if a negative-weight cycle is reachable from the source vertex `s`, and if so, it returns a `None`, indicating that there exists no shortest path. See §22.1 *The Bellman-Ford algorithm* p.612.\n",
    "\n",
    "We also define below the initialisation sequence `init()` as given on p.609 and the `relax()` function as given on p.610. Moreover, we factored out SSP extraction into `getSSP()`, so that we may reuse it elsewhere."
   ]
  },
  {
   "cell_type": "code",
   "execution_count": 7,
   "id": "285922d6-70df-4c77-81ca-1ed1cfcc9647",
   "metadata": {},
   "outputs": [],
   "source": [
    "def init(g: SSPGraph, s: Vertex) -> None:\n",
    "    # see p.609\n",
    "    for u in g.getVV():\n",
    "        u.par = None\n",
    "        u.dis = Infinity\n",
    "    s.dis = 0\n",
    "\n",
    "def relax(e: WgtEdge) -> None:\n",
    "    # see p.610\n",
    "    u = e.u\n",
    "    v = e.v\n",
    "    if v.dis > u.dis + e.wgt:\n",
    "        v.par = u\n",
    "        v.dis = u.dis + e.wgt\n",
    "\n",
    "def sspBellmanFord(g: SSPGraph, s: Vertex) -> Option[Tree]:\n",
    "    # initialize\n",
    "    init(g, s)\n",
    "    # discover SSP in graph g\n",
    "    n = g.numVV()\n",
    "    # noinspection PyTypeChecker\n",
    "    for i in range(1, n):  # iteration i ∈ [1, n)\n",
    "        for e in g.getEE(): relax(e)  # disable type inspection, because e here is certain to be WgtEdge, not Edge\n",
    "    # check for negative-weight cycle\n",
    "    for e in g.getEE():\n",
    "        u = e.u\n",
    "        v = e.v\n",
    "        if v.dis > u.dis + e.wgt: return None  # found negative-weight cycle reachable from vertex s\n",
    "    return getSSP(g, s) # extract SSP p from graph g\n",
    "\n",
    "def getSSP(g: SSPGraph, s: Vertex) -> Tree:\n",
    "    p = Tree(f\"{g.tag}¶\")\n",
    "    p.insV(s)\n",
    "    for u in g.getVV():\n",
    "        if u != s:\n",
    "            p.insV(u)\n",
    "        if not u.isRoot():\n",
    "            etag = makeEtag(u.par, u)\n",
    "            if g.hasE(etag):\n",
    "                e = g.getE(etag)\n",
    "                p.insE(e)\n",
    "    return p"
   ]
  },
  {
   "cell_type": "markdown",
   "id": "191e5fcd-75a2-490f-9cc4-4f2580234bf2",
   "metadata": {},
   "source": [
    "## Bellman-Ford DAWG\n",
    "\n",
    "Now, we implement the `sspBellmanFordDAWG()`, which applies topological sort to the vertices to achieve a tighter time bound of $\\Theta(V + E)$ when computing SSP on a directed, acyclic, weighted graph (DAWG). This algorithm is used to find critical paths in PERT charts. See §22.2 *Single-source shortest paths in directed acyclic graphs* p.616."
   ]
  },
  {
   "cell_type": "code",
   "execution_count": 8,
   "id": "f377e123-2a8f-4496-8c9b-c793b0089f2c",
   "metadata": {},
   "outputs": [],
   "source": [
    "def sspBellmanFordDAWG(g: SSPGraph, s: Vertex) -> Option[Tree]:\n",
    "    vv = tsort(g)\n",
    "    # initialize\n",
    "    init(g, s)\n",
    "    # relax edges\n",
    "    for u in vv:  # for each topologically sorted vertex\n",
    "        for v in g.adj(u): relax(g.getE(makeEtag(u, v)))\n",
    "    return getSSP(g, s)"
   ]
  },
  {
   "cell_type": "markdown",
   "id": "eb73fbdb-93e6-4b66-93fa-a6a175fc5482",
   "metadata": {},
   "source": [
    "## Dijkstra's SSP algorithm\n",
    "\n",
    "Dijkstra's SSP algorithm follows the structure of BFS. But where as BFS assumes unitary weight edges, Dijkstra's algorithm works with non-negative edge weights. Dijkstra's algorithm uses `PriorityQueue`. When we implemented `PrimMSTGraph` in [`mst.ipynb`](./mst.ipynb), we defined `PriVertex` which can be stored in a priority queue. We shall reuse it here. But since Dijkstra's algorithm only updates the `dis` attribute, we manually copy the updated `dis` value to the `pri` attribute, so as to make the priority queue work correctly."
   ]
  },
  {
   "cell_type": "code",
   "execution_count": 9,
   "id": "d9a55728-34ea-4663-9655-85d5e2086cb8",
   "metadata": {},
   "outputs": [],
   "source": [
    "from queue import PriorityQueue\n",
    "\n",
    "DijkstraSSPGraph = PrimMSTGraph  # uses PriVertex\n",
    "\n",
    "def sspDijkstra(g: SSPGraph, s: PriVertex) -> Tree:\n",
    "    # initialize\n",
    "    init(g, s)\n",
    "    s.pri = s.dis # manually update vertex priority\n",
    "    b: VSet = {}  # vertex set of SSP\n",
    "    q = PriorityQueue()\n",
    "    for u in g.getVV(): q.put(u)\n",
    "    # discover SSP in graph g\n",
    "    while not q.empty():\n",
    "        u: PriVertex = q.get()\n",
    "        b[u.tag] = u\n",
    "        for v in g.adj(u):\n",
    "            if relax(g.getE(makeEtag(u, v))):\n",
    "                v.pri = v.dis # manually update vertex priority\n",
    "                q.queue.sort()  # rearrange q to account for decreased v.dis\n",
    "    return getSSP(g, s)"
   ]
  },
  {
   "cell_type": "markdown",
   "id": "ce1307e6-acce-4b34-8967-32a71a606139",
   "metadata": {},
   "source": [
    "# Conclusion\n",
    "\n",
    "In this notebook, we implemented Bellman-Ford algorithm and Dijkstra's algorithm for computing single-source shortest paths. Dijkstra's algorithm is the more efficient of the two. Tests for these SSP algorithms are implemented in [`ssptest.ipynb`](./ssptest.ipynb)."
   ]
  }
 ],
 "metadata": {
  "kernelspec": {
   "display_name": "Python 3 (ipykernel)",
   "language": "python",
   "name": "python3"
  },
  "language_info": {
   "codemirror_mode": {
    "name": "ipython",
    "version": 3
   },
   "file_extension": ".py",
   "mimetype": "text/x-python",
   "name": "python",
   "nbconvert_exporter": "python",
   "pygments_lexer": "ipython3",
   "version": "3.8.17"
  }
 },
 "nbformat": 4,
 "nbformat_minor": 5
}
