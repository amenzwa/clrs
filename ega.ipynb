{
 "cells": [
  {
   "cell_type": "code",
   "execution_count": 1,
   "id": "b725abd8-b20f-48d8-9dcc-5690170499f5",
   "metadata": {},
   "outputs": [],
   "source": [
    "# automatically reload dependant notebooks\n",
    "%load_ext autoreload\n",
    "%autoreload 2\n",
    "import import_ipynb"
   ]
  },
  {
   "cell_type": "markdown",
   "id": "8a877362-c3ea-49fc-9cae-a657718a1b7b",
   "metadata": {},
   "source": [
    "# Elementary Graph Algorithms\n",
    "\n",
    "If you have not read CLRS 4ed Chapter 20 *Elementary Graph Algorithms*, read it now, before proceeding with this notebook. The chapter presents two graph algorithms—bread-first search (BFS) and depth-first search (DFS)—which are used by just about every graph application. These algorithms work on both directed and undirected graphs.\n",
    "\n",
    "## *breadth-first search*\n",
    "\n",
    "BFS discovers a breadth-first tree (BFT) within graph $G = (V, E)$, staring from the source vertex $s$, exploring outward one edge-distance at a time, until all the vertices have been explored. See §20.2 *Breadth-first search* p.554. The runtime of BFS is $O(V + E)$, which is time linear in adjacency list size. See p.558.\n",
    "\n",
    "Since the `LstGraph` constructor has already initialised the vertex and edge attributes, it may seem superfluous to reinitialise ther vertices, here. But this step is actually necessary, since we may wish to call `bfs()` multiple times on the same graph. The `Gray` vertices, which have been discovered but have not finished processing, are stored in a first-in, first-out (FIFO) queue described in §10.1.3 *Stacks and queues* p.254.\n",
    "\n",
    "The purpose of BFS is to discover a breadth-first tree (BFT) witihn the graph. So, we implement `bft()`. This function accepts a graph, runs `bfs()` on the graph, and extracts a BFT therefrom. Since both BFS and DFS use the same initialisation sequence, we will implement the `egaInit()` function, first."
   ]
  },
  {
   "cell_type": "code",
   "execution_count": 2,
   "id": "3900b6b0-671e-4cf9-8057-d62a99b4fef1",
   "metadata": {},
   "outputs": [
    {
     "name": "stdout",
     "output_type": "stream",
     "text": [
      "importing Jupyter notebook from graph.ipynb\n",
      "The autoreload extension is already loaded. To reload it, use:\n",
      "  %reload_ext autoreload\n",
      "importing Jupyter notebook from util.ipynb\n",
      "importing Jupyter notebook from ega.ipynb\n",
      "The autoreload extension is already loaded. To reload it, use:\n",
      "  %reload_ext autoreload\n"
     ]
    }
   ],
   "source": [
    "from queue import Queue\n",
    "from graph import *\n",
    "from ega import *\n",
    "\n",
    "def egaInit(g: LstGraph) -> None:\n",
    "  for u in g.getVV():\n",
    "    u.par = None\n",
    "    u.dis = Infinity\n",
    "    u.col = VCol.White\n",
    "\n",
    "def bfs(g: LstGraph, s: Vert) -> LstGraph:\n",
    "  def explore() -> LstGraph:\n",
    "    if q.empty(): return g\n",
    "    u = q.get()\n",
    "    for v in g.adj(u):\n",
    "      if v.col == VCol.White:\n",
    "        # v discovered\n",
    "        v.par = u\n",
    "        v.dis = u.dis + 1\n",
    "        v.col = VCol.Gray\n",
    "        q.put(v)\n",
    "    # u finished\n",
    "    u.col = VCol.Black\n",
    "    return explore()\n",
    "\n",
    "  # initialize\n",
    "  egaInit(g)\n",
    "  # s discovered\n",
    "  s.par = None\n",
    "  s.dis = 0\n",
    "  s.col = VCol.Gray\n",
    "  # search g\n",
    "  q = Queue()\n",
    "  q.put(s)\n",
    "  return explore()\n",
    "\n",
    "def bft(g: LstGraph, s: Vert) -> LstTree:\n",
    "  g = bfs(g, s)\n",
    "  t = LstTree(f\"{g.tag}†\")\n",
    "  for u in g.getVV():\n",
    "    if u == s or not u.isRoot(): t.insV(u)\n",
    "  for u in t.getVV():\n",
    "    if not u.isRoot():\n",
    "      e = g.getE(makeETag(u.par, u))\n",
    "      t.insE(e)\n",
    "  return t"
   ]
  },
  {
   "cell_type": "markdown",
   "id": "38fdfa12-afb4-4300-afdf-c154c6eb95d9",
   "metadata": {},
   "source": [
    "Above, we call the `explore()` inner function recursively, instead of using the `while` loop as CLRS does. When studying algorithms, indeed for all things mathematics, it is essential to be comfortable with recursion. Recursive expressions can be understood by visual inspection, whereas to understand loopy statements, one must be mentally executed the sequence of statements. Familiarity with recursion is also becoming important to programmers now, since many modern programming languages are OO-FP hybrids with good compilers that can optimise tail-call recursions into jump instructions, thereby eliminating the attendant function call overhead. Python's support for recursion is pitiful, for sure. But here, the emphasis is on studying algorithms, not efficiency. If efficiency is our top priority, we should not use Python in the first place."
   ]
  },
  {
   "cell_type": "markdown",
   "id": "e1f230d8-bb1a-4cd9-a869-e95fb27c0da0",
   "metadata": {},
   "source": [
    "## *depth-first search*\n",
    "\n",
    "DFS discovers a depth-first forest (DFF) within the graph by staring from some vertex $u$ and following the outbound edge $(u, v)$ to the neighbour vertex $v$, then proceeding as far as possible before backtracking to $u$ and trying another neighbour, and continuing in this manner until all the vertices have been explored. See §20.3 *Depth-first search* p.563. The runtime of DFS is $\\Theta(V + E)$, which is a tighter bound that that of BFS. See p.567.\n",
    "\n",
    "Since the purpose of DFS is to discover DFF, we implement `dff()`, as well. And since DFF is pointless without edge classification, we implement edge classification within `dfs()` as described on CLRS p.570. Our implementation of DFS, therefore, is slightly more complicated than that described on CLRS p.565, but this is a necessary, minor departure."
   ]
  },
  {
   "cell_type": "code",
   "execution_count": 3,
   "id": "a19893d3-5981-461e-9470-d30ceafc2dd6",
   "metadata": {},
   "outputs": [],
   "source": [
    "def dfs(g: LstGraph) -> LstGraph:\n",
    "  def explore(u: Vert) -> None:\n",
    "    time[0] += 1\n",
    "    # u discovered\n",
    "    u.dis = time[0]\n",
    "    u.col = VCol.Gray\n",
    "    for v in g.adj(u):\n",
    "      e = g.getE(makeETag(u, v))\n",
    "      if v.col == VCol.Black:  # bullet 3. p.570\n",
    "        e.cls = ECls.F if u.dis < v.dis else ECls.C\n",
    "      elif v.col == VCol.Gray:  # bullet 2. p.570\n",
    "        e.cls = ECls.B\n",
    "      elif v.col == VCol.White:  # bullet 1. p.570\n",
    "        v.par = u\n",
    "        e.cls = ECls.T\n",
    "        explore(v)\n",
    "    time[0] += 1\n",
    "    # u finished\n",
    "    u.fin = time[0]\n",
    "    u.col = VCol.Black\n",
    "\n",
    "  # initialize\n",
    "  egaInit(g)\n",
    "  # search g\n",
    "  time = [0]  # use array instead of a scalar to allow explore() to mutate time\n",
    "  for u in g.getVV():\n",
    "    if u.col == VCol.White: explore(u)\n",
    "  return g\n",
    "\n",
    "def dff(g: LstGraph) -> LstGraph:\n",
    "  g = dfs(g)\n",
    "  f = LstGraph(f\"{g.tag}†\")\n",
    "  f.dupVV(g.vv)\n",
    "  for v in f.getVV():\n",
    "    if not v.isRoot():\n",
    "      e = g.getE(makeETag(v.par, v))\n",
    "      f.insE(e)\n",
    "  return f"
   ]
  },
  {
   "cell_type": "markdown",
   "id": "6863da31-cf2d-4843-b4ca-1aa6e9b251cb",
   "metadata": {},
   "source": [
    "As we had done with BFS, we use the `explore()` recursive inner function to perform the search. CLRS uses the `time: int` global variable. We do not. Instead, we define a local `time: [int]` in `dfs()`, and update it from within `explore()`. The inner function `explore()` can access variables defined in its outer function `dfs()`. This is called the *closure* property of functions. Python allows reading the enclosed variables, but prohibits mutating them. But if a closure variable references an objects, the inner function may mutate the contents of the object but not the reference variable itself. This is the case here: the `time` variable in `explore()` references a list object allocated in `dfs()`, so we may mutate the element `time[0]` but not `time` itself. This is an inelegant solution, but it allows us to follow the CLRS description, closely."
   ]
  },
  {
   "cell_type": "markdown",
   "id": "d9e15383-1b68-4c5e-b1db-577fe9357fa2",
   "metadata": {},
   "source": [
    "# Applications of Elementary Graph Algorithms\n",
    "\n",
    "CLRS Chapter 20 presents two applications: topological sort (TSort) and strongly connected components (SCC).\n",
    "\n",
    "## *topological sort*\n",
    "\n",
    "TSort applies DFS to a directed acyclic graph (DAG) to obtain a linear ordering of the vertices. Many simple tasks, like cooking and cleaning, to intricate processes, like surgical procedure and software compilation, depend on steps being performing in a particular order. A DAG can describe task dependencies, where vertices $u$ and $v$ are tasks and edges $(u, v)$ indicate that $u$ must be perfodelEd after $v$. TSort produces a sensible order of such tasks by applying DFS to the dag `sg` then sorting the vertices in the descending order of their finish times. See §20.4 *Topological sort* p.573. The runtime of TSort is the same as that of DFS: $\\Theta(V + E)$."
   ]
  },
  {
   "cell_type": "code",
   "execution_count": 4,
   "id": "e2e493d3-6544-4046-8165-42d11ddc8169",
   "metadata": {},
   "outputs": [],
   "source": [
    "def tsort(g: LstGraph) -> [Vert]:\n",
    "    g = dfs(g)\n",
    "    return sorted(g.getVV(), key=lambda u: u.fin, reverse=True)"
   ]
  },
  {
   "cell_type": "markdown",
   "id": "1200dc41-fb3f-428f-808e-af4929ddd504",
   "metadata": {},
   "source": [
    "## *strongly connected components*\n",
    "\n",
    "Strongly connected components (SCC) of a directed graph (digraph) are sets of vertices that are reacheable from each other. See Appendix B.4 *Graphs* pp.1164-1168. CLRS §20.5 *Strongly connected components* presents an algorithm that applies DFS twice to extract an SCC from a digraph. The runtime of SCC is the same as that of DFS: $\\Theta(V + E$.\n",
    "\n",
    "First, we define the `Comp` component type, which is a `Vert` that contains a set of strongly connected vertices. We also define the `makeCTag()` utility function that forms the component's tag by merging the IDs of its constituent vertices."
   ]
  },
  {
   "cell_type": "code",
   "execution_count": 5,
   "id": "97051527-cb7b-436c-a47e-71d97ba8a28d",
   "metadata": {},
   "outputs": [],
   "source": [
    "class Comp(Vert):\n",
    "  def __init__(self, tag: Tag):\n",
    "    super().__init__(tag)\n",
    "    self.vv: VSet = {}  # strongly connected vertices\n",
    "  def init(self) -> None: self.__init__(self.tag)\n",
    "\n",
    "  def insVV(self, vv: [Vert]) -> None:\n",
    "    for u in vv: self.vv[u.tag] = u\n",
    "  def getVV(self) -> [Vert]: return list(self.vv.values())\n",
    "\n",
    "def makeCTag(vv: [Vert]) -> Tag: return \"+\".join([v.tag for v in vv])"
   ]
  },
  {
   "cell_type": "markdown",
   "id": "abd98b73-534f-45df-9601-df148e8ba310",
   "metadata": {},
   "source": [
    "Now, we implement the SCC algorithm. To comput SCC according to the CLRS algorithm presented on p.577, we require two utility functions: `transpose()` that reverses the edges of a digraph, `sort()` that sorts the vertices by some attribute, and `contract()` that merges the strongly connected vertices into components by contracting the edges. `contract()` uses the DFF to contract its input graph. The contraction of an undirected graph is given on p.1168."
   ]
  },
  {
   "cell_type": "code",
   "execution_count": 6,
   "id": "bd11b744-2d52-4746-93a1-728267c2c1df",
   "metadata": {},
   "outputs": [],
   "source": [
    "from typing import Callable\n",
    "\n",
    "def scc(g: LstGraph) -> LstGraph:\n",
    "  g = dfs(g)\n",
    "  r = transpose(g)\n",
    "  s = sort(r, attr=lambda u: u.fin, reverse=True)  # descending sort of vertices by finish times\n",
    "  s = dfs(s)\n",
    "  f = dff(s)\n",
    "  return contract(g, f)\n",
    "\n",
    "def transpose(g: LstGraph) -> LstGraph:\n",
    "  # reverse edges\n",
    "  r = LstGraph(f\"{g.tag}!\")\n",
    "  r.dupVV(g.vv)\n",
    "  for e in g.getEE(): r.insE(Edge(e.v, e.u))  # flip (u, v) to (v, u)\n",
    "  return r\n",
    "\n",
    "def sort(g: LstGraph, attr: Callable[[Vert], int], reverse: bool = False) -> LstGraph:\n",
    "  # sort vertices\n",
    "  s = LstGraph(f\"{g.tag}§\")\n",
    "  for u in sorted(g.getVV(), key=attr, reverse=reverse): s.insV(u)  # sorted vertices\n",
    "  s.dupEE(g.ee)\n",
    "  return s\n",
    "\n",
    "def contract(g: LstGraph, f: LstGraph) -> LstGraph:\n",
    "  # contract DFS g using DFF f\n",
    "  def scv(u: Vert) -> [Vert]:\n",
    "    aa = f.adj(u)  # vertex u's adjacent vertices in DFF f\n",
    "    return [] if not aa else [v := aa[0], *scv(v)]\n",
    "\n",
    "  c = LstGraph(f\"{g.tag}₵\")  # SCC c\n",
    "  # create vertices of SCC c\n",
    "  for r in [v for v in g.getVV() if v.isRoot()]:  # for each root vertex r in DFS g\n",
    "    vv = [r, *scv(r)]  # strongly connected vertices rooted at vertex r\n",
    "    x = Comp(makeCTag(vv))  # create component x by merging strongly connected vertices vv\n",
    "    x.insVV(vv)\n",
    "    c.insV(x)  # insert component x into SCC c\n",
    "  # create edges of SCC c\n",
    "  cc: [Comp] = c.getVV()  # components of SCC c\n",
    "  for x in cc:  # for each component x in SCC c\n",
    "    aa: VSet = {}  # adjacent vertices of component x in DFS g\n",
    "    vv = x.getVV()  # constituent vertices of component x\n",
    "    for u in vv:  # for each constituent vertex u of component x\n",
    "      for v in [a for a in g.adj(u) if a not in vv]: aa[v.tag] = v  # for each (u, v) leaving component x\n",
    "    for a in aa.values():  # for each adjacent vertex a of component x\n",
    "      for y in [b for b in cc if b != x]:  # for every other component y in SCC c\n",
    "        if a in y.getVV():  # component y is adjacent to component x\n",
    "          c.insE(Edge(x, y))  # insert edge (x, y) into SCC c\n",
    "  return c"
   ]
  },
  {
   "cell_type": "markdown",
   "id": "42a0af1b-fab8-410b-abce-e837f740fc92",
   "metadata": {},
   "source": [
    "# Conclusion\n",
    "\n",
    "In this notebook, we implemented the BFS and DFS elementary graph algorithms and the two graph applications described in CLRS Chapter 20. Other more advanced graph algorithms use BFS and DFS. Tests for these elementary graph algorithms and their applications are in [`egatest.ipynb`](./egatest.ipynb)"
   ]
  }
 ],
 "metadata": {
  "kernelspec": {
   "display_name": "Python 3 (ipykernel)",
   "language": "python",
   "name": "python3"
  },
  "language_info": {
   "codemirror_mode": {
    "name": "ipython",
    "version": 3
   },
   "file_extension": ".py",
   "mimetype": "text/x-python",
   "name": "python",
   "nbconvert_exporter": "python",
   "pygments_lexer": "ipython3",
   "version": "3.8.17"
  }
 },
 "nbformat": 4,
 "nbformat_minor": 5
}
